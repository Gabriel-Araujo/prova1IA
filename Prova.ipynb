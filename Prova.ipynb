{
 "cells": [
  {
   "cell_type": "markdown",
   "metadata": {
    "collapsed": true,
    "pycharm": {
     "name": "#%% md\n"
    }
   },
   "source": [
    "# Resolução da 1ª prova de Inteligência Artificial."
   ]
  },
  {
   "cell_type": "markdown",
   "source": [
    "![1ª Questão](Questões/Q1.png)"
   ],
   "metadata": {
    "collapsed": false
   }
  },
  {
   "cell_type": "markdown",
   "source": [
    "### Agente comentarista de Jogo:\n",
    "\n",
    "#### Medida de desempenho:\n",
    "Quantidades de pessoas assistindo a transmissão.\n",
    "#### Ambiente:\n",
    "Transmissão por rádio, TV ou internet de um jogo.\n",
    "#### Atuadores:\n",
    "Microfone para simular a voz de um narrador.\n",
    "#### Sensores:\n",
    "Câmera para ver o jogo.\n",
    "\n",
    "### Agente sugestor de vinho:\n",
    "\n",
    "#### Medida de desempenho:\n",
    "Feedback das pessoas que receberam a recomendação do vinho. Sendo possível dizer se gostou ou não do vinho sugerido (Sim ou não, uma resposta binária).\n",
    "#### Ambiente:\n",
    "Uma Adega de vinhos\n",
    "#### Atuadores:\n",
    "Uma tela para exibir o nome do vinho sugerido\n",
    "#### Sensores:\n",
    "Sensores degustativos para que a IA sejá capaz de obter informações sobre acidez, quantidade de alcool, aroma e sabor.\n",
    "Sensores termicos para poder determinar se o vinho está na temperatura certa.\n",
    "\n",
    "### Agente treinador de time:\n",
    "\n",
    "#### Medida de desempenho:\n",
    "Desempenho do time em jogos, isto é o placar final do jogo.\n",
    "#### Ambiente:\n",
    "Times de basquetes, futebol, futebol americano, etc.\n",
    "#### Atuadores:\n",
    "Tela para exibir as informações para os jogadores e treinador.\n",
    "#### Sensores:\n",
    "Sensores termicos para ver a temperatura do corpo dos jogadores, sensores de CO2 no sangue, Sensores de velocidade para ver a velocidade em que os jogadores estão correndo, sensor que placar do jogo."
   ],
   "metadata": {
    "collapsed": false
   }
  },
  {
   "cell_type": "markdown",
   "source": [
    "![2ª Questão](Questões/Q2.png)"
   ],
   "metadata": {
    "collapsed": false
   }
  },
  {
   "cell_type": "markdown",
   "source": [
    "Os quatros tipos são: Supervisionado, não-supervisionado, semi-supervisionado e aprendizagem por reforço.\n",
    "### Aprendizado Supervisionado\n",
    "No aprendizado supervisionado a máquina recebe tanto as entradas como as saídas do banco de dados. Com isso, a máquina consegue criar uma função que mapeia as entradas com as saídas.\n",
    "\n",
    "No caso do banco de dados escolhido. A máquina receberia como entradas os dados como idade, hipertensão, nível de glicose, e para as saídas ela receberia os resultados de derrame.\n",
    "\n",
    "### Aprendizado Não-supervisionado\n",
    "No aprendizado não-supervisionado a máquina só recebe os dados de entrada. Com eles ela cria grupos de elementos com características semelhantes.\n",
    "\n",
    "Com o banco de dados. A máquina receberia as entradas escolhidas, e depois de gerar dois grupos de elementos, seria verificado se os grupos criados se relacionam com as saídas dos elementos. Isto é, se a maioria dos elementos teriam o mesmo resultado de derrame.\n",
    "### Aprendizado Semi-supervisionado\n",
    "\n",
    "O aprendizado semi-supervisionado é uma mistura entre o supervisionado e o não-supervisionado, onde só algum dos elementos do grupo de aprendizado recebem as saídas. A máquina então, agruparia os elementos em grupos e usaria os elementos rotulados para prever as saídas.\n",
    "\n",
    "No banco de dados, a máquina receberia uma amostra de aprendizado onde só alguns elementos teriam as informações de derrame. Ela então deve criar dois grupos rotulados correspondendo os resultados da coluna derrame.\n",
    "\n",
    "### Aprendizado por reforço\n",
    "No aprendizado por reforço a máquina aparece por recompensa. Isto é, a máquina possui algum tipo de pontuação, e quando ela acerta a pontuação sobe, caso contrário a pontuação desce.\n",
    "\n",
    "Nesse caso, a máquina receberia um grupo de aprendizado sem os resultados da saídas, mas receberia que as saídas devem ser ou 1 para derrame ou 0 para não teve derrame. Conforme a máquina fosse tentando prever as saídas a sua pontuação iria ser aumentada para acerto e diminuía para erro.\n",
    "### Base de Dados:\n",
    "https://www.kaggle.com/datasets/fedesoriano/stroke-prediction-dataset\n",
    "\n"
   ],
   "metadata": {
    "collapsed": false
   }
  },
  {
   "cell_type": "code",
   "execution_count": null,
   "outputs": [],
   "source": [],
   "metadata": {
    "collapsed": false,
    "pycharm": {
     "name": "#%%\n"
    }
   }
  }
 ],
 "metadata": {
  "kernelspec": {
   "display_name": "Python 3",
   "language": "python",
   "name": "python3"
  },
  "language_info": {
   "codemirror_mode": {
    "name": "ipython",
    "version": 2
   },
   "file_extension": ".py",
   "mimetype": "text/x-python",
   "name": "python",
   "nbconvert_exporter": "python",
   "pygments_lexer": "ipython2",
   "version": "2.7.6"
  }
 },
 "nbformat": 4,
 "nbformat_minor": 0
}