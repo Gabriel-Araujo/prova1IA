{
 "cells": [
  {
   "cell_type": "markdown",
   "metadata": {
    "collapsed": true,
    "pycharm": {
     "name": "#%% md\n"
    }
   },
   "source": [
    "# Resolução da 1.ª prova de Inteligência Artificial."
   ]
  },
  {
   "cell_type": "markdown",
   "source": [
    "![1ª Questão](Questões/Q1.png)"
   ],
   "metadata": {
    "collapsed": false,
    "pycharm": {
     "name": "#%% md\n"
    }
   }
  },
  {
   "cell_type": "markdown",
   "source": [
    "### Agente comentarista de Jogo:\n",
    "\n",
    "#### Medida de desempenho:\n",
    "Quantidades de pessoas assistindo à transmissão.\n",
    "#### Ambiente:\n",
    "Transmissão por rádio, TV ou _internet_ de um jogo.\n",
    "#### Atuadores:\n",
    "Microfone para simular a voz de um narrador.\n",
    "#### Sensores:\n",
    "Câmera para ver o jogo.\n",
    "\n",
    "### Agente sugestor de vinho:\n",
    "\n",
    "#### Medida de desempenho:\n",
    "_Feedback_ das pessoas que receberam a recomendação do vinho. Sendo possível dizer se gostou ou não do vinho sugerido (Sim ou não, uma resposta binária).\n",
    "#### Ambiente:\n",
    "Uma Adega de vinhos\n",
    "#### Atuadores:\n",
    "Uma tela para exibir o nome do vinho sugerido\n",
    "#### Sensores:\n",
    "Sensores degustativo para que a IA consiga obter informações sobre acidez, quantidade de alcohol, aroma e sabor.\n",
    "Sensores térmicos para poder determinar se o vinho está na temperatura certa.\n",
    "\n",
    "### Agente treinador de time:\n",
    "\n",
    "#### Medida de desempenho:\n",
    "Desempenho do time em jogos, isto é o placar final do jogo.\n",
    "#### Ambiente:\n",
    "Times de basquetes, futebol, futebol americano, etc.\n",
    "#### Atuadores:\n",
    "Tela para exibir as informações para os jogadores e treinador.\n",
    "#### Sensores:\n",
    "Sensores térmicos para ver a temperatura do corpo dos jogadores, sensores de CO₂ no sangue, sensores de velocidade para ver a velocidade em que os jogadores estão correndo, sensor que placar do jogo."
   ],
   "metadata": {
    "collapsed": false,
    "pycharm": {
     "name": "#%% md\n"
    }
   }
  },
  {
   "cell_type": "markdown",
   "source": [
    "![2ª Questão](Questões/Q2.png)"
   ],
   "metadata": {
    "collapsed": false,
    "pycharm": {
     "name": "#%% md\n"
    }
   }
  },
  {
   "cell_type": "markdown",
   "source": [
    "Os quatro tipos são: supervisionado, não-supervisionado, semi-supervisionado e aprendizagem por reforço.\n",
    "### Aprendizado Supervisionado\n",
    "No aprendizado supervisionado a máquina recebe tanto as entradas como as saídas do banco de dados. Com isso, a máquina consegue criar uma função que mapeia as entradas com as saídas.\n",
    "\n",
    "No caso do banco de dados escolhido. A máquina receberia como entradas os dados como idade, hipertensão, nível de glicose, e para as saídas ela receberia os resultados de derrame.\n",
    "\n",
    "### Aprendizado Não-supervisionado\n",
    "No aprendizado não-supervisionado a máquina só recebe os dados de entrada. Com eles ela cria grupos de elementos com características semelhantes.\n",
    "\n",
    "Com o banco de dados. A máquina receberia as entradas escolhidas, e após gerar dois grupos de elementos, seria verificado se os grupos criados se relacionam com as saídas dos elementos. Isto é, se a maioria dos elementos teria o mesmo resultado de derrame.\n",
    "### Aprendizado Semi-supervisionado\n",
    "\n",
    "O aprendizado semi-supervisionado é uma mistura entre o supervisionado e o não-supervisionado, onde só algum dos elementos do grupo de aprendizado recebem as saídas. A máquina então, agruparia os elementos em grupos e usaria os elementos rotulados para prever as saídas.\n",
    "\n",
    "No banco de dados, a máquina receberia uma amostra de aprendizado onde só alguns elementos teriam as informações de derrame. Ela então deve criar dois grupos rotulados correspondendo os resultados da coluna derrame.\n",
    "\n",
    "### Aprendizado por reforço\n",
    "No aprendizado por reforço a máquina aparece por recompensa. Isto é, a máquina possui algum tipo de pontuação, e quando ela acerta a pontuação sobe, caso contrário a pontuação desce.\n",
    "\n",
    "Nesse caso, a máquina receberia um grupo de aprendizado sem os resultados das saídas, mas receberia que as saídas devem ser ou 1 para derrame ou 0 para não teve derrame. Conforme a máquina fosse tentando prever as saídas a sua pontuação iria ser aumentada para acerto e diminuía para erro.\n",
    "### Base de Dados:\n",
    "https://www.kaggle.com/datasets/fedesoriano/stroke-prediction-dataset\n",
    "\n"
   ],
   "metadata": {
    "collapsed": false,
    "pycharm": {
     "name": "#%% md\n"
    }
   }
  },
  {
   "cell_type": "markdown",
   "source": [
    "![3ª Questão](Questões/Q3.png)"
   ],
   "metadata": {
    "collapsed": false,
    "pycharm": {
     "name": "#%% md\n"
    }
   }
  },
  {
   "cell_type": "markdown",
   "source": [
    "![4ª Questão](Questões/Q4.png)\n",
    "\n",
    "O banco de dados aparenta estar desbalanceado. Para melhorar os resultados é necessário balancear o banco de dados, para isso, na criação das amostras de treino e teste basta utilizar o método de amostragem estratificada.\n",
    "Para chegar aos resultados das métricas é necessário reduzir a quantidade de classes da matriz confusão para 2."
   ],
   "metadata": {
    "collapsed": false,
    "pycharm": {
     "name": "#%% md\n"
    }
   }
  },
  {
   "cell_type": "markdown",
   "source": [
    "\n",
    "![matriz confusão](Questões/matriz_confusao.png)\n",
    "\n",
    "Nos dados passados os dados verdadeiros são as colunas e os dados preditos são as linhas.\n",
    "\n",
    "Para fazer uma matriz de confusão para as <b>maças</b> teremos que:\n",
    "[PV] os valores positivo verdadeiro são : 70 (Previu que era maça e realmente era maça )\n",
    "[PF] valores positivo falsos são        : 30 (Previu que era maça, mas não era maça )\n",
    "[NV] os valores negativo verdadeiro são : 1122 (Previu que não era maça e realmente não era maça )\n",
    "[NF] os valores negativo falso são      : 20 (Previu que não era maça, mas era maça)\n",
    "\n",
    "\n",
    "Para fazer uma matriz de confusão para as <b>laranjas</b> teremos que:\n",
    "[PV] os valores positivo verdadeiro são : 67\n",
    "[PF] os valores positivo falsos são     : 33\n",
    "[NV] os valores negativo verdadeiro são : 1125\n",
    "[NF] os valores negativo falso são      : 54\n",
    "\n",
    "Para fazer uma matriz de confusão para os <b>limões</b> teremos que:\n",
    "[PV] os valores positivo verdadeiro são : 55\n",
    "[PF] os valores positivo falsos são     : 45\n",
    "[NV] os valores negativo verdadeiro são : 1137\n",
    "[NF] os valores negativo falso são      : 10\n",
    "\n",
    "Para fazer uma matriz de confusão para as <b>mangas</b> teremos que:\n",
    "[PV] os valores positivo verdadeiro são : 1000\n",
    "[PF] os valores positivo falsos são     : 11\n",
    "[NV] os valores negativo verdadeiro são : 192\n",
    "[NF] os valores negativo falso são      : 35\n",
    "\n",
    "![Matrizes Confusão Binário](Questões/matrizes_confusão_binário.png)"
   ],
   "metadata": {
    "collapsed": false,
    "pycharm": {
     "name": "#%% md\n"
    }
   }
  },
  {
   "cell_type": "markdown",
   "source": [
    "## Medidas das classes isoladas\n",
    "### - Maça\n",
    "#### Sensibilidade:\n",
    "$ sensibilidade = \\frac{PV}{PV + NF} = $\n",
    "$ \\frac{70}{70 + 20} = 0,777 $\n",
    "\n",
    "#### Especificidade:\n",
    "$ especifidade = \\frac{NV}{NV + PF} = $\n",
    "$ \\frac{1122}{1122 + 30} = 0,973 $\n",
    "\n",
    "#### Precisão:\n",
    "$ precisão = \\frac{PV}{PV + PF} = $\n",
    "$ \\frac{70}{70 + 30} = 0,700 $\n",
    "\n",
    "#### Medida F1:\n",
    "$ F1 = 2 * \\frac{precisão * sensibilidade}{precisão + sensibilidade} = $\n",
    "$2 * \\frac{0,959 * 0,777}{0,959 +0,777} = 0,858$\n",
    "\n",
    "#### Acurácia:\n",
    "$ acuracia = \\frac{VP + VN}{VP + VN + PF + PV} = $\n",
    "$ \\frac{70 + 1122}{70 + 20 + 30 + 1122} = 0,959 $\n",
    "\n",
    "#### Coeficiente de Matthews:\n",
    "$ MCC = \\frac{VP * VN - FP * FN}{\\sqrt{(VP+FP)*(VP+FN)*(VN+FP)*(NV+FN)}} = $\n",
    "$ \\frac{70 * 1122 - 30 * 20}{\\sqrt{(70+30)*(70+20)*(1122+30)*(1122+20)}} = 0,716 $\n",
    "\n",
    "#### ROC AUC:\n",
    "AUC = 0,875\n",
    "\n",
    "___\n",
    "### - Laranja\n",
    "#### Sensibilidade:\n",
    "$ sensibilidade = \\frac{PV}{PV + NF} = $\n",
    "$ \\frac{67}{67 + 54} = 0,553 $\n",
    "\n",
    "#### Especificidade:\n",
    "$ especifidade = \\frac{NV}{NV + PF} = $\n",
    "$ \\frac{1125}{1125 + 33} = 0,971 $\n",
    "\n",
    "#### Precisão:\n",
    "$ precisão = \\frac{PV}{PV + PF} = $\n",
    "$ \\frac{67}{67 + 33} = 0,670 $\n",
    "\n",
    "#### Medida F1:\n",
    "$ F1 = 2 * \\frac{precisão * sensibilidade}{precisão + sensibilidade} = $\n",
    "$2 * \\frac{0,670 * 0,553}{0,670 + 0,553} = 0,605$\n",
    "\n",
    "#### Acurácia:\n",
    "$ acuracia = \\frac{VP + VN}{VP + VN + PF + PV} = $\n",
    "$ \\frac{67 + 1125}{67 + 54 + 33 + 1125} = 0,931 $\n",
    "\n",
    "#### Coeficiente de Matthews:\n",
    "$ MCC = \\frac{VP * VN - FP * FN}{\\sqrt{(VP+FP)*(VP+FN)*(VN+FP)*(NV+FN)}} = $\n",
    "$ MCC = \\frac{67 * 1125 - 33 * 54}{\\sqrt{(67+33)*(67+54)*(1125+33)*(1125+54)}} = 0,572 $\n",
    "\n",
    "#### ROC AUC:\n",
    "AUC = 0,762\n",
    "\n",
    "___\n",
    "### - Limão\n",
    "#### Sensibilidade:\n",
    "$ sensibilidade = \\frac{PV}{PV + NF} = $\n",
    "$ \\frac{55}{55 + 10} = 0,846 $\n",
    "\n",
    "#### Especificidade:\n",
    "$ especifidade = \\frac{NV}{NV + PF} = $\n",
    "$ \\frac{1137}{1137 + 45} = 0,961 $\n",
    "\n",
    "#### Precisão:\n",
    "$ precisão = \\frac{PV}{PV + PF} = $\n",
    "$ \\frac{55}{55 + 45} = 0,550 $\n",
    "\n",
    "#### Medida F1:\n",
    "$ F1 = 2 * \\frac{precisão * sensibilidade}{precisão + sensibilidade} = $\n",
    "$2 * \\frac{0,550 * 0,846}{0,550 +0,846} = 0,666$\n",
    "\n",
    "#### Acurácia:\n",
    "$ acuracia = \\frac{VP + VN}{VP + VN + PF + PV} = $\n",
    "$ \\frac{55 + 1137}{55 + 10 + 45 + 1137} = 0,955 $\n",
    "\n",
    "#### Coeficiente de Matthews:\n",
    "$ MCC = \\frac{VP * VN - FP * FN}{\\sqrt{(VP+FP)*(VP+FN)*(VN+FP)*(NV+FN)}} = $\n",
    "$ \\frac{55 * 1137 - 45 * 10}{\\sqrt{(55+45)*(55+10)*(1137+45)*(1137+10)}} = 0,661 $\n",
    "\n",
    "#### ROC AUC:\n",
    "AUC = 0.904\n",
    "\n",
    "___\n",
    "### - Manga\n",
    "#### Sensibilidade:\n",
    "$ sensibilidade = \\frac{PV}{PV + NF} = $\n",
    "$ \\frac{1000}{1000 + 35} = 0,966 $\n",
    "\n",
    "#### Especificidade:\n",
    "$ especifidade = \\frac{NV}{NV + PF} = $\n",
    "$ \\frac{192}{192 + 11} = 0,945 $\n",
    "\n",
    "#### Precisão:\n",
    "$ precisão = \\frac{PV}{PV + PF} = $\n",
    "$ \\frac{1000}{1000 + 11} = 0,989 $\n",
    "\n",
    "#### Medida F1:\n",
    "$ F1 = 2 * \\frac{precisão * sensibilidade}{precisão + sensibilidade} = $\n",
    "$ 2 * \\frac{0,989 * 0,966}{0,989 +0,966} = 0,9744 $\n",
    "\n",
    "#### Acurácia:\n",
    "$ acuracia = \\frac{VP + VN}{VP + VN + PF + PV} = $\n",
    "$ \\frac{1000 + 192}{1000 + 35 + 11 + 192} = 0,962 $\n",
    "\n",
    "#### Coeficiente de Matthews:\n",
    "$ MCC = \\frac{VP * VN - FP * FN}{\\sqrt{(VP+FP)*(VP+FN)*(VN+FP)*(NV+FN)}} = $\n",
    "$ MCC = \\frac{1000 * 192 - 11 * 35}{\\sqrt{(1000+11)*(1000+35)*(192+11)*(192+35)}} = 0,872 $\n",
    "\n",
    "#### ROC AUC:\n",
    "AUC = 0.955"
   ],
   "metadata": {
    "collapsed": false,
    "pycharm": {
     "name": "#%% md\n"
    }
   }
  },
  {
   "cell_type": "markdown",
   "source": [
    "ou transformar a matriz para que:\n",
    "- Os Positivos Verdadeiros (VP) e Negativos Verdadeiros (NV) Sejam a Diagonal principal da matriz\n",
    "- Os Positivo Falso (PF) ficarão na última linha da tabela enquanto os Negativo falsos (NF) irão para a última coluna a direita\n",
    "![Matriz de Confusão Transformada](Questões/matriz_confusao_transformada.png)"
   ],
   "metadata": {
    "collapsed": false,
    "pycharm": {
     "name": "#%% md\n"
    }
   }
  },
  {
   "cell_type": "markdown",
   "source": [
    "# Anotações\n",
    "## Acurácia:\n",
    "A acurácia é a porcentagem das previsões corretas. Isto é as previsões que a maquina fez e estão corretas. Para classificações binárias a acurácia pode ser calculada como a razão entre as predições corretas e o total de predições.\n",
    "$ acuracia = \\frac{predições corretas}{total de predições} = \\frac{Verdadeiro Positivo(VP) + Verdadeiro Negativo(VN)}{Total} $\n",
    "\n",
    "<b> A _acurácia_ não é uma boa métrica quando você está trabalhando com banco de dados desbalanceados. Isto é, quando o banco de dados tem uma grande disparidade na quantidade de elementos de cada tipo.</b>\n",
    "\n",
    "## Sensibilidade (Recall)\n",
    "É a proporção de previsões positivas corretas.\n",
    "$ sensibilidade = \\frac{VerdadeiroPositivo (VP)}{VerdadeiroPositivo (VP) + Falso Positivo (FP)} $\n",
    "\n",
    "## Precisão\n",
    "O objetivo da precisão é mostrar quanto das previsos verdadeira positiva estavam corretas. Uma precisão de 1 mostra que não foi previsto um falso positivo.\n",
    "$ precisao = \\frac{VerdadeiroPositivo (VP)}{VerdadeiroPositivo (VP) + Falso Negativo (FN)} $\n",
    "\n",
    "## Coeficiente de Matthews\n",
    "É usado na aprendizagem de máquina como uma medida da qualidade de binário Coeficiente de correlação de Matthews. O coeficiente leva em consideração verdadeiros e falsos positivos e negativos e é geralmente considerado uma medida equilibrada que pode ser usada mesmo se as classes forem de tamanhos muito diferentes. Coeficiente de correlação de Matthews. O MCC é, em essência, um coeficiente de correlação entre as classificações binárias observadas e previstas; ele retorna um valor entre -1 e +1. Um coeficiente de +1 representa uma predição perfeita, 0 não melhor do que a predição aleatória e -1 indica discordância total entre predição e observação. Coeficiente de correlação de Matthews.\n",
    "\n",
    "$ MCC = \\frac{VP * VN - FP * FN}{\\sqrt{(VP+FP)*(VP+FN)*(VN+FP)*(NV+FN)}}$\n",
    "\n",
    "# Fonte/Referência para mais estudos\n",
    "- Livro Machine Learning Guia de Referência Rápida - Matt Harrison\n",
    "- Livro Data Science Do Zero - Joel Grus\n",
    "- Site https://developers.google.com/machine-learning/crash-course/classification\n",
    "- Site https://developers.google.com/machine-learning/crash-course/classification/roc-and-auc\n",
    "- Site https://scikit-learn.org\n",
    "- Site https://tiago.blog.br/precisao-revocacao-acuracia-e-medida-f/"
   ],
   "metadata": {
    "collapsed": false,
    "pycharm": {
     "name": "#%% md\n"
    }
   }
  },
  {
   "cell_type": "code",
   "execution_count": 102,
   "outputs": [
    {
     "name": "stdout",
     "output_type": "stream",
     "text": [
      "maça\n",
      "1242\n",
      "1242\n",
      "laranja\n",
      "1242\n",
      "1242\n",
      "limão\n",
      "1242\n",
      "1242\n",
      "manga\n",
      "1242\n",
      "1242\n"
     ]
    }
   ],
   "source": [
    "y_maca_true = []\n",
    "y_maca_pred = []\n",
    "y_laranja_true = []\n",
    "y_laranja_pred = []\n",
    "y_limao_true = []\n",
    "y_limao_pred = []\n",
    "y_manga_true = []\n",
    "y_manga_pred = []\n",
    "\n",
    "# ------- maça ------------\n",
    "x = 0\n",
    "while x < 70: # Verdadeiro Positivo\n",
    "    y_maca_true.append(1)\n",
    "    y_maca_pred.append(1)\n",
    "    x += 1\n",
    "\n",
    "x = 0\n",
    "while x < 20: # Falso negativo\n",
    "    y_maca_true.append(1)\n",
    "    y_maca_pred.append(0)\n",
    "    x += 1\n",
    "\n",
    "x = 0\n",
    "while x < 30: # False Positivo\n",
    "    y_maca_true.append(0)\n",
    "    y_maca_pred.append(1)\n",
    "    x += 1\n",
    "\n",
    "x = 0\n",
    "while x < 1122: # Verdadeiro negativo\n",
    "    y_maca_true.append(0)\n",
    "    y_maca_pred.append(0)\n",
    "    x += 1\n",
    "print(\"maça\")\n",
    "print(len(y_maca_true))\n",
    "print(len(y_maca_pred))\n",
    "\n",
    "# ------- laranja ------------\n",
    "x = 0\n",
    "while x < 67: # Verdadeiro Positivo\n",
    "    y_laranja_true.append(1)\n",
    "    y_laranja_pred.append(1)\n",
    "    x += 1\n",
    "\n",
    "x = 0\n",
    "while x < 54: # Falso negativo\n",
    "    y_laranja_true.append(1)\n",
    "    y_laranja_pred.append(0)\n",
    "    x += 1\n",
    "\n",
    "x = 0\n",
    "while x < 33: # False Positivo\n",
    "    y_laranja_true.append(0)\n",
    "    y_laranja_pred.append(1)\n",
    "    x += 1\n",
    "\n",
    "x = 0\n",
    "while x < 1125: # Verdadeiro negativo\n",
    "    y_laranja_true.append(0)\n",
    "    y_laranja_pred.append(0)\n",
    "    x += 1\n",
    "\n",
    "print(\"laranja\")\n",
    "print(len(y_maca_true))\n",
    "print(len(y_maca_pred))\n",
    "\n",
    "# ------- limão ------------\n",
    "x = 0\n",
    "while x < 55: # Verdadeiro Positivo\n",
    "    y_limao_true.append(1)\n",
    "    y_limao_pred.append(1)\n",
    "    x += 1\n",
    "\n",
    "x = 0\n",
    "while x < 10: # Falso negativo\n",
    "    y_limao_true.append(1)\n",
    "    y_limao_pred.append(0)\n",
    "    x += 1\n",
    "\n",
    "x = 0\n",
    "while x < 45: # False Positivo\n",
    "    y_limao_true.append(0)\n",
    "    y_limao_pred.append(1)\n",
    "    x += 1\n",
    "\n",
    "x = 0\n",
    "while x < 1137: # Verdadeiro negativo\n",
    "    y_limao_true.append(0)\n",
    "    y_limao_pred.append(0)\n",
    "    x += 1\n",
    "\n",
    "print(\"limão\")\n",
    "print(len(y_maca_true))\n",
    "print(len(y_maca_pred))\n",
    "\n",
    "# ------- manga ------------\n",
    "x = 0\n",
    "while x < 1000: # Verdadeiro Positivo\n",
    "    y_manga_true.append(1)\n",
    "    y_manga_pred.append(1)\n",
    "    x += 1\n",
    "\n",
    "x = 0\n",
    "while x < 35: # Falso negativo\n",
    "    y_manga_true.append(1)\n",
    "    y_manga_pred.append(0)\n",
    "    x += 1\n",
    "\n",
    "x = 0\n",
    "while x < 11: # False Positivo\n",
    "    y_manga_true.append(0)\n",
    "    y_manga_pred.append(1)\n",
    "    x += 1\n",
    "\n",
    "x = 0\n",
    "while x < 192: # Verdadeiro negativo\n",
    "    y_manga_true.append(0)\n",
    "    y_manga_pred.append(0)\n",
    "    x += 1\n",
    "\n",
    "print(\"manga\")\n",
    "print(len(y_maca_true))\n",
    "print(len(y_maca_pred))"
   ],
   "metadata": {
    "collapsed": false,
    "pycharm": {
     "name": "#%%\n"
    }
   }
  },
  {
   "cell_type": "code",
   "execution_count": 103,
   "outputs": [],
   "source": [
    "from sklearn.metrics import confusion_matrix, ConfusionMatrixDisplay\n",
    "import matplotlib.pyplot as plt\n",
    "from sklearn.metrics import accuracy_score, recall_score, precision_score,f1_score, roc_auc_score"
   ],
   "metadata": {
    "collapsed": false,
    "pycharm": {
     "name": "#%%\n"
    }
   }
  },
  {
   "cell_type": "code",
   "execution_count": 104,
   "outputs": [
    {
     "name": "stdout",
     "output_type": "stream",
     "text": [
      "Para maça\n"
     ]
    },
    {
     "data": {
      "text/plain": "<Figure size 432x288 with 2 Axes>",
      "image/png": "[encoded data removed]"
     },
     "metadata": {
      "needs_background": "light"
     },
     "output_type": "display_data"
    }
   ],
   "source": [
    "print(\"Para maça\")\n",
    "cs = confusion_matrix(y_maca_true, y_maca_pred)\n",
    "disp = ConfusionMatrixDisplay(cs)\n",
    "disp.plot(cmap=plt.cm.Blues)\n",
    "plt.show()\n"
   ],
   "metadata": {
    "collapsed": false,
    "pycharm": {
     "name": "#%%\n"
    }
   }
  },
  {
   "cell_type": "code",
   "execution_count": 105,
   "outputs": [
    {
     "name": "stdout",
     "output_type": "stream",
     "text": [
      "Para laranja\n"
     ]
    },
    {
     "data": {
      "text/plain": "<Figure size 432x288 with 2 Axes>",
      "image/png": "[encoded data removed]"
     },
     "metadata": {
      "needs_background": "light"
     },
     "output_type": "display_data"
    }
   ],
   "source": [
    "print(\"Para laranja\")\n",
    "cs = confusion_matrix(y_laranja_true, y_laranja_pred)\n",
    "disp = ConfusionMatrixDisplay(cs)\n",
    "disp.plot(cmap=plt.cm.Blues)\n",
    "plt.show()"
   ],
   "metadata": {
    "collapsed": false,
    "pycharm": {
     "name": "#%%\n"
    }
   }
  },
  {
   "cell_type": "code",
   "execution_count": 106,
   "outputs": [
    {
     "name": "stdout",
     "output_type": "stream",
     "text": [
      "Para limão\n"
     ]
    },
    {
     "data": {
      "text/plain": "<Figure size 432x288 with 2 Axes>",
      "image/png": "[encoded data removed]"
     },
     "metadata": {
      "needs_background": "light"
     },
     "output_type": "display_data"
    }
   ],
   "source": [
    "print(\"Para limão\")\n",
    "cs = confusion_matrix(y_limao_true, y_limao_pred)\n",
    "disp = ConfusionMatrixDisplay(cs)\n",
    "disp.plot(cmap=plt.cm.Blues)\n",
    "plt.show()"
   ],
   "metadata": {
    "collapsed": false,
    "pycharm": {
     "name": "#%%\n"
    }
   }
  },
  {
   "cell_type": "code",
   "execution_count": 107,
   "outputs": [
    {
     "name": "stdout",
     "output_type": "stream",
     "text": [
      "Para manga\n"
     ]
    },
    {
     "data": {
      "text/plain": "<Figure size 432x288 with 2 Axes>",
      "image/png": "[encoded data removed]"
     },
     "metadata": {
      "needs_background": "light"
     },
     "output_type": "display_data"
    }
   ],
   "source": [
    "print(\"Para manga\")\n",
    "cs = confusion_matrix(y_manga_true, y_manga_pred)\n",
    "disp = ConfusionMatrixDisplay(cs)\n",
    "disp.plot(cmap=plt.cm.Blues)\n",
    "disp.figure_.set_label(\"Manga\")\n",
    "\n",
    "plt.show()"
   ],
   "metadata": {
    "collapsed": false,
    "pycharm": {
     "name": "#%%\n"
    }
   }
  },
  {
   "cell_type": "code",
   "execution_count": 108,
   "outputs": [
    {
     "name": "stdout",
     "output_type": "stream",
     "text": [
      "Para maça\n",
      "acurácia =  0.9597423510466989\n",
      "Sensibilidade =  0.7777777777777778\n",
      "precisão =  0.7\n",
      "F1 =  0.7368421052631577\n",
      "roc auc =  0.8758680555555555\n"
     ]
    }
   ],
   "source": [
    "print(\"Para maça\")\n",
    "print(\"acurácia = \", accuracy_score(y_maca_true, y_maca_pred))\n",
    "print(\"Sensibilidade = \", recall_score(y_maca_true, y_maca_pred))\n",
    "print(\"precisão = \", precision_score(y_maca_true, y_maca_pred))\n",
    "print(\"F1 = \", f1_score(y_maca_true, y_maca_pred))\n",
    "print(\"roc auc = \", roc_auc_score(y_maca_true, y_maca_pred))"
   ],
   "metadata": {
    "collapsed": false,
    "pycharm": {
     "name": "#%%\n"
    }
   }
  },
  {
   "cell_type": "code",
   "execution_count": 109,
   "outputs": [
    {
     "name": "stdout",
     "output_type": "stream",
     "text": [
      "Para Laranja\n",
      "acurácia =  0.9319781078967944\n",
      "Sensibilidade =  0.5537190082644629\n",
      "precisão =  0.67\n",
      "F1 =  0.6063348416289593\n",
      "roc auc =  0.7626107994690191\n"
     ]
    }
   ],
   "source": [
    "print(\"Para Laranja\")\n",
    "print(\"acurácia = \", accuracy_score(y_laranja_true, y_laranja_pred))\n",
    "print(\"Sensibilidade = \", recall_score(y_laranja_true, y_laranja_pred))\n",
    "print(\"precisão = \", precision_score(y_laranja_true, y_laranja_pred))\n",
    "print(\"F1 = \", f1_score(y_laranja_true, y_laranja_pred))\n",
    "print(\"roc auc = \", roc_auc_score(y_laranja_true, y_laranja_pred))"
   ],
   "metadata": {
    "collapsed": false,
    "pycharm": {
     "name": "#%%\n"
    }
   }
  },
  {
   "cell_type": "code",
   "execution_count": 110,
   "outputs": [
    {
     "name": "stdout",
     "output_type": "stream",
     "text": [
      "Para Limão\n",
      "acurácia =  0.9558941459502807\n",
      "Sensibilidade =  0.8461538461538461\n",
      "precisão =  0.55\n",
      "F1 =  0.6666666666666667\n",
      "roc auc =  0.9040413900819992\n"
     ]
    }
   ],
   "source": [
    "print(\"Para Limão\")\n",
    "print(\"acurácia = \", accuracy_score(y_limao_true, y_limao_pred))\n",
    "print(\"Sensibilidade = \", recall_score(y_limao_true, y_limao_pred))\n",
    "print(\"precisão = \", precision_score(y_limao_true, y_limao_pred))\n",
    "print(\"F1 = \", f1_score(y_limao_true, y_limao_pred))\n",
    "print(\"roc auc = \", roc_auc_score(y_limao_true, y_limao_pred))"
   ],
   "metadata": {
    "collapsed": false,
    "pycharm": {
     "name": "#%%\n"
    }
   }
  },
  {
   "cell_type": "code",
   "execution_count": 111,
   "outputs": [
    {
     "name": "stdout",
     "output_type": "stream",
     "text": [
      "Para Manga\n",
      "acurácia =  0.962843295638126\n",
      "Sensibilidade =  0.966183574879227\n",
      "precisão =  0.9891196834817013\n",
      "F1 =  0.9775171065493645\n",
      "roc auc =  0.9559981913805001\n"
     ]
    }
   ],
   "source": [
    "print(\"Para Manga\")\n",
    "print(\"acurácia = \", accuracy_score(y_manga_true, y_manga_pred))\n",
    "print(\"Sensibilidade = \", recall_score(y_manga_true, y_manga_pred))\n",
    "print(\"precisão = \", precision_score(y_manga_true, y_manga_pred))\n",
    "print(\"F1 = \", f1_score(y_manga_true, y_manga_pred))\n",
    "print(\"roc auc = \", roc_auc_score(y_manga_true, y_manga_pred))"
   ],
   "metadata": {
    "collapsed": false,
    "pycharm": {
     "name": "#%%\n"
    }
   }
  },
  {
   "cell_type": "markdown",
   "source": [],
   "metadata": {
    "collapsed": false,
    "pycharm": {
     "name": "#%% md\n"
    }
   }
  }
 ],
 "metadata": {
  "kernelspec": {
   "display_name": "Python 3",
   "language": "python",
   "name": "python3"
  },
  "language_info": {
   "codemirror_mode": {
    "name": "ipython",
    "version": 2
   },
   "file_extension": ".py",
   "mimetype": "text/x-python",
   "name": "python",
   "nbconvert_exporter": "python",
   "pygments_lexer": "ipython2",
   "version": "2.7.6"
  }
 },
 "nbformat": 4,
 "nbformat_minor": 0
}