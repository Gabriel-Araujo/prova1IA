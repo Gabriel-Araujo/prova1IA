{
 "cells": [
  {
   "cell_type": "markdown",
   "metadata": {
    "collapsed": true,
    "pycharm": {
     "name": "#%% md\n"
    }
   },
   "source": [
    "# Resolução da 1.ª prova de Inteligência Artificial."
   ]
  },
  {
   "cell_type": "markdown",
   "metadata": {
    "pycharm": {
     "name": "#%% md\n"
    }
   },
   "source": [
    "![1ª Questão](Questões/Q1.png)"
   ]
  },
  {
   "cell_type": "markdown",
   "metadata": {
    "pycharm": {
     "name": "#%% md\n"
    }
   },
   "source": [
    "### Agente comentarista de Jogo:\n",
    "\n",
    "#### Medida de desempenho:\n",
    "Quantidades de pessoas assistindo à transmissão.\n",
    "#### Ambiente:\n",
    "Transmissão por rádio, TV ou _internet_ de um jogo.\n",
    "#### Atuadores:\n",
    "Microfone para simular a voz de um narrador.\n",
    "#### Sensores:\n",
    "Câmera para ver o jogo.\n",
    "\n",
    "### Agente sugestor de vinho:\n",
    "\n",
    "#### Medida de desempenho:\n",
    "_Feedback_ das pessoas que receberam a recomendação do vinho. Sendo possível dizer se gostou ou não do vinho sugerido (Sim ou não, uma resposta binária).\n",
    "#### Ambiente:\n",
    "Uma Adega de vinhos\n",
    "#### Atuadores:\n",
    "Uma tela para exibir o nome do vinho sugerido\n",
    "#### Sensores:\n",
    "Sensores degustativo para que a IA consiga obter informações sobre acidez, quantidade de alcohol, aroma e sabor.\n",
    "Sensores térmicos para poder determinar se o vinho está na temperatura certa.\n",
    "\n",
    "### Agente treinador de time:\n",
    "\n",
    "#### Medida de desempenho:\n",
    "Desempenho do time em jogos, isto é o placar final do jogo.\n",
    "#### Ambiente:\n",
    "Times de basquetes, futebol, futebol americano, etc.\n",
    "#### Atuadores:\n",
    "Tela para exibir as informações para os jogadores e treinador.\n",
    "#### Sensores:\n",
    "Sensores térmicos para ver a temperatura do corpo dos jogadores, sensores de CO₂ no sangue, sensores de velocidade para ver a velocidade em que os jogadores estão correndo, sensor que placar do jogo."
   ]
  },
  {
   "cell_type": "markdown",
   "metadata": {
    "pycharm": {
     "name": "#%% md\n"
    }
   },
   "source": [
    "![2ª Questão](Questões/Q2.png)"
   ]
  },
  {
   "cell_type": "markdown",
   "metadata": {
    "pycharm": {
     "name": "#%% md\n"
    }
   },
   "source": [
    "Os quatro tipos são: supervisionado, não-supervisionado, semi-supervisionado e aprendizagem por reforço.\n",
    "### Aprendizado Supervisionado\n",
    "No aprendizado supervisionado a máquina recebe tanto as entradas como as saídas do banco de dados. Com isso, a máquina consegue criar uma função que mapeia as entradas com as saídas.\n",
    "\n",
    "No caso do banco de dados escolhido. A máquina receberia como entradas os dados como idade, hipertensão, nível de glicose, e para as saídas ela receberia os resultados de derrame.\n",
    "\n",
    "### Aprendizado Não-supervisionado\n",
    "No aprendizado não-supervisionado a máquina só recebe os dados de entrada. Com eles ela cria grupos de elementos com características semelhantes.\n",
    "\n",
    "Com o banco de dados. A máquina receberia as entradas escolhidas, e após gerar dois grupos de elementos, seria verificado se os grupos criados se relacionam com as saídas dos elementos. Isto é, se a maioria dos elementos teria o mesmo resultado de derrame.\n",
    "### Aprendizado Semi-supervisionado\n",
    "\n",
    "O aprendizado semi-supervisionado é uma mistura entre o supervisionado e o não-supervisionado, onde só algum dos elementos do grupo de aprendizado recebem as saídas. A máquina então, agruparia os elementos em grupos e usaria os elementos rotulados para prever as saídas.\n",
    "\n",
    "No banco de dados, a máquina receberia uma amostra de aprendizado onde só alguns elementos teriam as informações de derrame. Ela então deve criar dois grupos rotulados correspondendo os resultados da coluna derrame.\n",
    "\n",
    "### Aprendizado por reforço\n",
    "No aprendizado por reforço a máquina aparece por recompensa. Isto é, a máquina possui algum tipo de pontuação, e quando ela acerta a pontuação sobe, caso contrário a pontuação desce.\n",
    "\n",
    "Nesse caso, a máquina receberia um grupo de aprendizado sem os resultados das saídas, mas receberia que as saídas devem ser ou 1 para derrame ou 0 para não teve derrame. Conforme a máquina fosse tentando prever as saídas a sua pontuação iria ser aumentada para acerto e diminuía para erro.\n",
    "### Base de Dados:\n",
    "https://www.kaggle.com/datasets/fedesoriano/stroke-prediction-dataset\n",
    "\n"
   ]
  },
  {
   "cell_type": "markdown",
   "metadata": {
    "pycharm": {
     "name": "#%% md\n"
    }
   },
   "source": [
    "![3ª Questão](Questões/Q3.png)"
   ]
  },
  {
   "cell_type": "code",
   "execution_count": 1,
   "metadata": {
    "pycharm": {
     "name": "#%%\n"
    }
   },
   "outputs": [],
   "source": [
    "import matplotlib.pyplot as plt\n",
    "import numpy as np\n",
    "import pandas\n",
    "import pandas_profiling\n",
    "from sklearn import (ensemble, preprocessing, tree,)\n",
    "from sklearn.model_selection import cross_val_score # Cross Validation Function.\n",
    "from sklearn.model_selection import KFold # KFold Class.\n",
    "from sklearn.metrics import accuracy_score, recall_score, precision_score,f1_score, roc_auc_score\n",
    "from sklearn.neighbors import KNeighborsClassifier\n",
    "from sklearn.metrics import (auc, confusion_matrix, ConfusionMatrixDisplay, roc_auc_score, roc_curve, accuracy_score)\n",
    "from sklearn.model_selection import (train_test_split, StratifiedKFold)"
   ]
  },
  {
   "cell_type": "markdown",
   "metadata": {
    "pycharm": {
     "name": "#%% md\n"
    }
   },
   "source": [
    "# Pré-processamento"
   ]
  },
  {
   "cell_type": "code",
   "execution_count": 2,
   "metadata": {
    "pycharm": {
     "name": "#%%\n"
    }
   },
   "outputs": [
    {
     "data": {
      "text/html": [
       "<div>\n",
       "<style scoped>\n",
       "    .dataframe tbody tr th:only-of-type {\n",
       "        vertical-align: middle;\n",
       "    }\n",
       "\n",
       "    .dataframe tbody tr th {\n",
       "        vertical-align: top;\n",
       "    }\n",
       "\n",
       "    .dataframe thead th {\n",
       "        text-align: right;\n",
       "    }\n",
       "</style>\n",
       "<table border=\"1\" class=\"dataframe\">\n",
       "  <thead>\n",
       "    <tr style=\"text-align: right;\">\n",
       "      <th></th>\n",
       "      <th>id</th>\n",
       "      <th>gender</th>\n",
       "      <th>age</th>\n",
       "      <th>hypertension</th>\n",
       "      <th>heart_disease</th>\n",
       "      <th>ever_married</th>\n",
       "      <th>work_type</th>\n",
       "      <th>Residence_type</th>\n",
       "      <th>avg_glucose_level</th>\n",
       "      <th>bmi</th>\n",
       "      <th>smoking_status</th>\n",
       "      <th>stroke</th>\n",
       "    </tr>\n",
       "  </thead>\n",
       "  <tbody>\n",
       "    <tr>\n",
       "      <th>0</th>\n",
       "      <td>9046</td>\n",
       "      <td>Male</td>\n",
       "      <td>67.0</td>\n",
       "      <td>0</td>\n",
       "      <td>1</td>\n",
       "      <td>Yes</td>\n",
       "      <td>Private</td>\n",
       "      <td>Urban</td>\n",
       "      <td>228.69</td>\n",
       "      <td>36.6</td>\n",
       "      <td>formerly smoked</td>\n",
       "      <td>1</td>\n",
       "    </tr>\n",
       "    <tr>\n",
       "      <th>1</th>\n",
       "      <td>51676</td>\n",
       "      <td>Female</td>\n",
       "      <td>61.0</td>\n",
       "      <td>0</td>\n",
       "      <td>0</td>\n",
       "      <td>Yes</td>\n",
       "      <td>Self-employed</td>\n",
       "      <td>Rural</td>\n",
       "      <td>202.21</td>\n",
       "      <td>NaN</td>\n",
       "      <td>never smoked</td>\n",
       "      <td>1</td>\n",
       "    </tr>\n",
       "    <tr>\n",
       "      <th>2</th>\n",
       "      <td>31112</td>\n",
       "      <td>Male</td>\n",
       "      <td>80.0</td>\n",
       "      <td>0</td>\n",
       "      <td>1</td>\n",
       "      <td>Yes</td>\n",
       "      <td>Private</td>\n",
       "      <td>Rural</td>\n",
       "      <td>105.92</td>\n",
       "      <td>32.5</td>\n",
       "      <td>never smoked</td>\n",
       "      <td>1</td>\n",
       "    </tr>\n",
       "    <tr>\n",
       "      <th>3</th>\n",
       "      <td>60182</td>\n",
       "      <td>Female</td>\n",
       "      <td>49.0</td>\n",
       "      <td>0</td>\n",
       "      <td>0</td>\n",
       "      <td>Yes</td>\n",
       "      <td>Private</td>\n",
       "      <td>Urban</td>\n",
       "      <td>171.23</td>\n",
       "      <td>34.4</td>\n",
       "      <td>smokes</td>\n",
       "      <td>1</td>\n",
       "    </tr>\n",
       "    <tr>\n",
       "      <th>4</th>\n",
       "      <td>1665</td>\n",
       "      <td>Female</td>\n",
       "      <td>79.0</td>\n",
       "      <td>1</td>\n",
       "      <td>0</td>\n",
       "      <td>Yes</td>\n",
       "      <td>Self-employed</td>\n",
       "      <td>Rural</td>\n",
       "      <td>174.12</td>\n",
       "      <td>24.0</td>\n",
       "      <td>never smoked</td>\n",
       "      <td>1</td>\n",
       "    </tr>\n",
       "    <tr>\n",
       "      <th>...</th>\n",
       "      <td>...</td>\n",
       "      <td>...</td>\n",
       "      <td>...</td>\n",
       "      <td>...</td>\n",
       "      <td>...</td>\n",
       "      <td>...</td>\n",
       "      <td>...</td>\n",
       "      <td>...</td>\n",
       "      <td>...</td>\n",
       "      <td>...</td>\n",
       "      <td>...</td>\n",
       "      <td>...</td>\n",
       "    </tr>\n",
       "    <tr>\n",
       "      <th>5105</th>\n",
       "      <td>18234</td>\n",
       "      <td>Female</td>\n",
       "      <td>80.0</td>\n",
       "      <td>1</td>\n",
       "      <td>0</td>\n",
       "      <td>Yes</td>\n",
       "      <td>Private</td>\n",
       "      <td>Urban</td>\n",
       "      <td>83.75</td>\n",
       "      <td>NaN</td>\n",
       "      <td>never smoked</td>\n",
       "      <td>0</td>\n",
       "    </tr>\n",
       "    <tr>\n",
       "      <th>5106</th>\n",
       "      <td>44873</td>\n",
       "      <td>Female</td>\n",
       "      <td>81.0</td>\n",
       "      <td>0</td>\n",
       "      <td>0</td>\n",
       "      <td>Yes</td>\n",
       "      <td>Self-employed</td>\n",
       "      <td>Urban</td>\n",
       "      <td>125.20</td>\n",
       "      <td>40.0</td>\n",
       "      <td>never smoked</td>\n",
       "      <td>0</td>\n",
       "    </tr>\n",
       "    <tr>\n",
       "      <th>5107</th>\n",
       "      <td>19723</td>\n",
       "      <td>Female</td>\n",
       "      <td>35.0</td>\n",
       "      <td>0</td>\n",
       "      <td>0</td>\n",
       "      <td>Yes</td>\n",
       "      <td>Self-employed</td>\n",
       "      <td>Rural</td>\n",
       "      <td>82.99</td>\n",
       "      <td>30.6</td>\n",
       "      <td>never smoked</td>\n",
       "      <td>0</td>\n",
       "    </tr>\n",
       "    <tr>\n",
       "      <th>5108</th>\n",
       "      <td>37544</td>\n",
       "      <td>Male</td>\n",
       "      <td>51.0</td>\n",
       "      <td>0</td>\n",
       "      <td>0</td>\n",
       "      <td>Yes</td>\n",
       "      <td>Private</td>\n",
       "      <td>Rural</td>\n",
       "      <td>166.29</td>\n",
       "      <td>25.6</td>\n",
       "      <td>formerly smoked</td>\n",
       "      <td>0</td>\n",
       "    </tr>\n",
       "    <tr>\n",
       "      <th>5109</th>\n",
       "      <td>44679</td>\n",
       "      <td>Female</td>\n",
       "      <td>44.0</td>\n",
       "      <td>0</td>\n",
       "      <td>0</td>\n",
       "      <td>Yes</td>\n",
       "      <td>Govt_job</td>\n",
       "      <td>Urban</td>\n",
       "      <td>85.28</td>\n",
       "      <td>26.2</td>\n",
       "      <td>Unknown</td>\n",
       "      <td>0</td>\n",
       "    </tr>\n",
       "  </tbody>\n",
       "</table>\n",
       "<p>5110 rows × 12 columns</p>\n",
       "</div>"
      ],
      "text/plain": [
       "         id  gender   age  hypertension  heart_disease ever_married  \\\n",
       "0      9046    Male  67.0             0              1          Yes   \n",
       "1     51676  Female  61.0             0              0          Yes   \n",
       "2     31112    Male  80.0             0              1          Yes   \n",
       "3     60182  Female  49.0             0              0          Yes   \n",
       "4      1665  Female  79.0             1              0          Yes   \n",
       "...     ...     ...   ...           ...            ...          ...   \n",
       "5105  18234  Female  80.0             1              0          Yes   \n",
       "5106  44873  Female  81.0             0              0          Yes   \n",
       "5107  19723  Female  35.0             0              0          Yes   \n",
       "5108  37544    Male  51.0             0              0          Yes   \n",
       "5109  44679  Female  44.0             0              0          Yes   \n",
       "\n",
       "          work_type Residence_type  avg_glucose_level   bmi   smoking_status  \\\n",
       "0           Private          Urban             228.69  36.6  formerly smoked   \n",
       "1     Self-employed          Rural             202.21   NaN     never smoked   \n",
       "2           Private          Rural             105.92  32.5     never smoked   \n",
       "3           Private          Urban             171.23  34.4           smokes   \n",
       "4     Self-employed          Rural             174.12  24.0     never smoked   \n",
       "...             ...            ...                ...   ...              ...   \n",
       "5105        Private          Urban              83.75   NaN     never smoked   \n",
       "5106  Self-employed          Urban             125.20  40.0     never smoked   \n",
       "5107  Self-employed          Rural              82.99  30.6     never smoked   \n",
       "5108        Private          Rural             166.29  25.6  formerly smoked   \n",
       "5109       Govt_job          Urban              85.28  26.2          Unknown   \n",
       "\n",
       "      stroke  \n",
       "0          1  \n",
       "1          1  \n",
       "2          1  \n",
       "3          1  \n",
       "4          1  \n",
       "...      ...  \n",
       "5105       0  \n",
       "5106       0  \n",
       "5107       0  \n",
       "5108       0  \n",
       "5109       0  \n",
       "\n",
       "[5110 rows x 12 columns]"
      ]
     },
     "execution_count": 2,
     "metadata": {},
     "output_type": "execute_result"
    }
   ],
   "source": [
    "dataframe = pandas.read_csv(\"dataset/healthcare-dataset-stroke-data.csv\")\n",
    "dataframe_original = dataframe\n",
    "dataframe"
   ]
  },
  {
   "cell_type": "code",
   "execution_count": 4,
   "metadata": {
    "pycharm": {
     "name": "#%%\n"
    }
   },
   "outputs": [
    {
     "name": "stdout",
     "output_type": "stream",
     "text": [
      "id                     int64\n",
      "gender                object\n",
      "age                  float64\n",
      "hypertension           int64\n",
      "heart_disease          int64\n",
      "ever_married          object\n",
      "work_type             object\n",
      "Residence_type        object\n",
      "avg_glucose_level    float64\n",
      "bmi                  float64\n",
      "smoking_status        object\n",
      "stroke                 int64\n",
      "dtype: object\n",
      "(5110, 12)\n"
     ]
    }
   ],
   "source": [
    "print(dataframe_original.dtypes)\n",
    "print(dataframe_original.shape)"
   ]
  },
  {
   "cell_type": "code",
   "execution_count": 5,
   "metadata": {
    "pycharm": {
     "name": "#%%\n"
    }
   },
   "outputs": [
    {
     "data": {
      "text/html": [
       "<div>\n",
       "<style scoped>\n",
       "    .dataframe tbody tr th:only-of-type {\n",
       "        vertical-align: middle;\n",
       "    }\n",
       "\n",
       "    .dataframe tbody tr th {\n",
       "        vertical-align: top;\n",
       "    }\n",
       "\n",
       "    .dataframe thead th {\n",
       "        text-align: right;\n",
       "    }\n",
       "</style>\n",
       "<table border=\"1\" class=\"dataframe\">\n",
       "  <thead>\n",
       "    <tr style=\"text-align: right;\">\n",
       "      <th></th>\n",
       "      <th>gender</th>\n",
       "      <th>age</th>\n",
       "      <th>hypertension</th>\n",
       "      <th>heart_disease</th>\n",
       "      <th>avg_glucose_level</th>\n",
       "      <th>bmi</th>\n",
       "      <th>smoking_status</th>\n",
       "      <th>stroke</th>\n",
       "    </tr>\n",
       "  </thead>\n",
       "  <tbody>\n",
       "    <tr>\n",
       "      <th>0</th>\n",
       "      <td>Male</td>\n",
       "      <td>67.0</td>\n",
       "      <td>0</td>\n",
       "      <td>1</td>\n",
       "      <td>228.69</td>\n",
       "      <td>36.6</td>\n",
       "      <td>formerly smoked</td>\n",
       "      <td>1</td>\n",
       "    </tr>\n",
       "    <tr>\n",
       "      <th>2</th>\n",
       "      <td>Male</td>\n",
       "      <td>80.0</td>\n",
       "      <td>0</td>\n",
       "      <td>1</td>\n",
       "      <td>105.92</td>\n",
       "      <td>32.5</td>\n",
       "      <td>never smoked</td>\n",
       "      <td>1</td>\n",
       "    </tr>\n",
       "    <tr>\n",
       "      <th>3</th>\n",
       "      <td>Female</td>\n",
       "      <td>49.0</td>\n",
       "      <td>0</td>\n",
       "      <td>0</td>\n",
       "      <td>171.23</td>\n",
       "      <td>34.4</td>\n",
       "      <td>smokes</td>\n",
       "      <td>1</td>\n",
       "    </tr>\n",
       "    <tr>\n",
       "      <th>4</th>\n",
       "      <td>Female</td>\n",
       "      <td>79.0</td>\n",
       "      <td>1</td>\n",
       "      <td>0</td>\n",
       "      <td>174.12</td>\n",
       "      <td>24.0</td>\n",
       "      <td>never smoked</td>\n",
       "      <td>1</td>\n",
       "    </tr>\n",
       "    <tr>\n",
       "      <th>5</th>\n",
       "      <td>Male</td>\n",
       "      <td>81.0</td>\n",
       "      <td>0</td>\n",
       "      <td>0</td>\n",
       "      <td>186.21</td>\n",
       "      <td>29.0</td>\n",
       "      <td>formerly smoked</td>\n",
       "      <td>1</td>\n",
       "    </tr>\n",
       "    <tr>\n",
       "      <th>...</th>\n",
       "      <td>...</td>\n",
       "      <td>...</td>\n",
       "      <td>...</td>\n",
       "      <td>...</td>\n",
       "      <td>...</td>\n",
       "      <td>...</td>\n",
       "      <td>...</td>\n",
       "      <td>...</td>\n",
       "    </tr>\n",
       "    <tr>\n",
       "      <th>5100</th>\n",
       "      <td>Male</td>\n",
       "      <td>82.0</td>\n",
       "      <td>1</td>\n",
       "      <td>0</td>\n",
       "      <td>71.97</td>\n",
       "      <td>28.3</td>\n",
       "      <td>never smoked</td>\n",
       "      <td>0</td>\n",
       "    </tr>\n",
       "    <tr>\n",
       "      <th>5102</th>\n",
       "      <td>Female</td>\n",
       "      <td>57.0</td>\n",
       "      <td>0</td>\n",
       "      <td>0</td>\n",
       "      <td>77.93</td>\n",
       "      <td>21.7</td>\n",
       "      <td>never smoked</td>\n",
       "      <td>0</td>\n",
       "    </tr>\n",
       "    <tr>\n",
       "      <th>5106</th>\n",
       "      <td>Female</td>\n",
       "      <td>81.0</td>\n",
       "      <td>0</td>\n",
       "      <td>0</td>\n",
       "      <td>125.20</td>\n",
       "      <td>40.0</td>\n",
       "      <td>never smoked</td>\n",
       "      <td>0</td>\n",
       "    </tr>\n",
       "    <tr>\n",
       "      <th>5107</th>\n",
       "      <td>Female</td>\n",
       "      <td>35.0</td>\n",
       "      <td>0</td>\n",
       "      <td>0</td>\n",
       "      <td>82.99</td>\n",
       "      <td>30.6</td>\n",
       "      <td>never smoked</td>\n",
       "      <td>0</td>\n",
       "    </tr>\n",
       "    <tr>\n",
       "      <th>5108</th>\n",
       "      <td>Male</td>\n",
       "      <td>51.0</td>\n",
       "      <td>0</td>\n",
       "      <td>0</td>\n",
       "      <td>166.29</td>\n",
       "      <td>25.6</td>\n",
       "      <td>formerly smoked</td>\n",
       "      <td>0</td>\n",
       "    </tr>\n",
       "  </tbody>\n",
       "</table>\n",
       "<p>3426 rows × 8 columns</p>\n",
       "</div>"
      ],
      "text/plain": [
       "      gender   age  hypertension  heart_disease  avg_glucose_level   bmi  \\\n",
       "0       Male  67.0             0              1             228.69  36.6   \n",
       "2       Male  80.0             0              1             105.92  32.5   \n",
       "3     Female  49.0             0              0             171.23  34.4   \n",
       "4     Female  79.0             1              0             174.12  24.0   \n",
       "5       Male  81.0             0              0             186.21  29.0   \n",
       "...      ...   ...           ...            ...                ...   ...   \n",
       "5100    Male  82.0             1              0              71.97  28.3   \n",
       "5102  Female  57.0             0              0              77.93  21.7   \n",
       "5106  Female  81.0             0              0             125.20  40.0   \n",
       "5107  Female  35.0             0              0              82.99  30.6   \n",
       "5108    Male  51.0             0              0             166.29  25.6   \n",
       "\n",
       "       smoking_status  stroke  \n",
       "0     formerly smoked       1  \n",
       "2        never smoked       1  \n",
       "3              smokes       1  \n",
       "4        never smoked       1  \n",
       "5     formerly smoked       1  \n",
       "...               ...     ...  \n",
       "5100     never smoked       0  \n",
       "5102     never smoked       0  \n",
       "5106     never smoked       0  \n",
       "5107     never smoked       0  \n",
       "5108  formerly smoked       0  \n",
       "\n",
       "[3426 rows x 8 columns]"
      ]
     },
     "execution_count": 5,
     "metadata": {},
     "output_type": "execute_result"
    }
   ],
   "source": [
    "dataframe = dataframe.drop(columns=[\"id\", \"ever_married\", \"work_type\", \"Residence_type\"])\n",
    "dataframe = dataframe.dropna()\n",
    "dataframe = dataframe[dataframe[\"smoking_status\"].str.contains(\"Unknown\")==False]\n",
    "dataframe"
   ]
  },
  {
   "cell_type": "code",
   "execution_count": 6,
   "metadata": {
    "pycharm": {
     "name": "#%%\n"
    }
   },
   "outputs": [
    {
     "data": {
      "text/html": [
       "<div>\n",
       "<style scoped>\n",
       "    .dataframe tbody tr th:only-of-type {\n",
       "        vertical-align: middle;\n",
       "    }\n",
       "\n",
       "    .dataframe tbody tr th {\n",
       "        vertical-align: top;\n",
       "    }\n",
       "\n",
       "    .dataframe thead th {\n",
       "        text-align: right;\n",
       "    }\n",
       "</style>\n",
       "<table border=\"1\" class=\"dataframe\">\n",
       "  <thead>\n",
       "    <tr style=\"text-align: right;\">\n",
       "      <th></th>\n",
       "      <th>gender</th>\n",
       "      <th>age</th>\n",
       "      <th>hypertension</th>\n",
       "      <th>heart_disease</th>\n",
       "      <th>avg_glucose_level</th>\n",
       "      <th>bmi</th>\n",
       "      <th>smoking_status</th>\n",
       "      <th>stroke</th>\n",
       "    </tr>\n",
       "  </thead>\n",
       "  <tbody>\n",
       "    <tr>\n",
       "      <th>0</th>\n",
       "      <td>0.0</td>\n",
       "      <td>67.0</td>\n",
       "      <td>0</td>\n",
       "      <td>1</td>\n",
       "      <td>228.69</td>\n",
       "      <td>36.6</td>\n",
       "      <td>1</td>\n",
       "      <td>1</td>\n",
       "    </tr>\n",
       "    <tr>\n",
       "      <th>2</th>\n",
       "      <td>0.0</td>\n",
       "      <td>80.0</td>\n",
       "      <td>0</td>\n",
       "      <td>1</td>\n",
       "      <td>105.92</td>\n",
       "      <td>32.5</td>\n",
       "      <td>0</td>\n",
       "      <td>1</td>\n",
       "    </tr>\n",
       "    <tr>\n",
       "      <th>3</th>\n",
       "      <td>1.0</td>\n",
       "      <td>49.0</td>\n",
       "      <td>0</td>\n",
       "      <td>0</td>\n",
       "      <td>171.23</td>\n",
       "      <td>34.4</td>\n",
       "      <td>2</td>\n",
       "      <td>1</td>\n",
       "    </tr>\n",
       "    <tr>\n",
       "      <th>4</th>\n",
       "      <td>1.0</td>\n",
       "      <td>79.0</td>\n",
       "      <td>1</td>\n",
       "      <td>0</td>\n",
       "      <td>174.12</td>\n",
       "      <td>24.0</td>\n",
       "      <td>0</td>\n",
       "      <td>1</td>\n",
       "    </tr>\n",
       "    <tr>\n",
       "      <th>5</th>\n",
       "      <td>0.0</td>\n",
       "      <td>81.0</td>\n",
       "      <td>0</td>\n",
       "      <td>0</td>\n",
       "      <td>186.21</td>\n",
       "      <td>29.0</td>\n",
       "      <td>1</td>\n",
       "      <td>1</td>\n",
       "    </tr>\n",
       "    <tr>\n",
       "      <th>...</th>\n",
       "      <td>...</td>\n",
       "      <td>...</td>\n",
       "      <td>...</td>\n",
       "      <td>...</td>\n",
       "      <td>...</td>\n",
       "      <td>...</td>\n",
       "      <td>...</td>\n",
       "      <td>...</td>\n",
       "    </tr>\n",
       "    <tr>\n",
       "      <th>5100</th>\n",
       "      <td>0.0</td>\n",
       "      <td>82.0</td>\n",
       "      <td>1</td>\n",
       "      <td>0</td>\n",
       "      <td>71.97</td>\n",
       "      <td>28.3</td>\n",
       "      <td>0</td>\n",
       "      <td>0</td>\n",
       "    </tr>\n",
       "    <tr>\n",
       "      <th>5102</th>\n",
       "      <td>1.0</td>\n",
       "      <td>57.0</td>\n",
       "      <td>0</td>\n",
       "      <td>0</td>\n",
       "      <td>77.93</td>\n",
       "      <td>21.7</td>\n",
       "      <td>0</td>\n",
       "      <td>0</td>\n",
       "    </tr>\n",
       "    <tr>\n",
       "      <th>5106</th>\n",
       "      <td>1.0</td>\n",
       "      <td>81.0</td>\n",
       "      <td>0</td>\n",
       "      <td>0</td>\n",
       "      <td>125.20</td>\n",
       "      <td>40.0</td>\n",
       "      <td>0</td>\n",
       "      <td>0</td>\n",
       "    </tr>\n",
       "    <tr>\n",
       "      <th>5107</th>\n",
       "      <td>1.0</td>\n",
       "      <td>35.0</td>\n",
       "      <td>0</td>\n",
       "      <td>0</td>\n",
       "      <td>82.99</td>\n",
       "      <td>30.6</td>\n",
       "      <td>0</td>\n",
       "      <td>0</td>\n",
       "    </tr>\n",
       "    <tr>\n",
       "      <th>5108</th>\n",
       "      <td>0.0</td>\n",
       "      <td>51.0</td>\n",
       "      <td>0</td>\n",
       "      <td>0</td>\n",
       "      <td>166.29</td>\n",
       "      <td>25.6</td>\n",
       "      <td>1</td>\n",
       "      <td>0</td>\n",
       "    </tr>\n",
       "  </tbody>\n",
       "</table>\n",
       "<p>3425 rows × 8 columns</p>\n",
       "</div>"
      ],
      "text/plain": [
       "      gender   age  hypertension  heart_disease  avg_glucose_level   bmi  \\\n",
       "0        0.0  67.0             0              1             228.69  36.6   \n",
       "2        0.0  80.0             0              1             105.92  32.5   \n",
       "3        1.0  49.0             0              0             171.23  34.4   \n",
       "4        1.0  79.0             1              0             174.12  24.0   \n",
       "5        0.0  81.0             0              0             186.21  29.0   \n",
       "...      ...   ...           ...            ...                ...   ...   \n",
       "5100     0.0  82.0             1              0              71.97  28.3   \n",
       "5102     1.0  57.0             0              0              77.93  21.7   \n",
       "5106     1.0  81.0             0              0             125.20  40.0   \n",
       "5107     1.0  35.0             0              0              82.99  30.6   \n",
       "5108     0.0  51.0             0              0             166.29  25.6   \n",
       "\n",
       "      smoking_status  stroke  \n",
       "0                  1       1  \n",
       "2                  0       1  \n",
       "3                  2       1  \n",
       "4                  0       1  \n",
       "5                  1       1  \n",
       "...              ...     ...  \n",
       "5100               0       0  \n",
       "5102               0       0  \n",
       "5106               0       0  \n",
       "5107               0       0  \n",
       "5108               1       0  \n",
       "\n",
       "[3425 rows x 8 columns]"
      ]
     },
     "execution_count": 6,
     "metadata": {},
     "output_type": "execute_result"
    }
   ],
   "source": [
    "dataframe['gender'] = dataframe['gender'].map({'Male': 0, 'Female': 1})\n",
    "\n",
    "dataframe['smoking_status'] = dataframe['smoking_status'].map({'never smoked': 0, 'formerly smoked': 1, 'smokes': 2})\n",
    "dataframe = dataframe.dropna()\n",
    "dataframe"
   ]
  },
  {
   "cell_type": "code",
   "execution_count": 7,
   "metadata": {
    "pycharm": {
     "name": "#%%\n"
    }
   },
   "outputs": [
    {
     "name": "stdout",
     "output_type": "stream",
     "text": [
      "Valores faltando: \n",
      " gender               0\n",
      "age                  0\n",
      "hypertension         0\n",
      "heart_disease        0\n",
      "avg_glucose_level    0\n",
      "bmi                  0\n",
      "smoking_status       0\n",
      "stroke               0\n",
      "dtype: int64\n"
     ]
    }
   ],
   "source": [
    "print(\"Valores faltando: \\n\", dataframe.isnull().sum())"
   ]
  },
  {
   "cell_type": "code",
   "execution_count": 8,
   "metadata": {
    "pycharm": {
     "name": "#%%\n"
    }
   },
   "outputs": [
    {
     "name": "stdout",
     "output_type": "stream",
     "text": [
      "valores duplicados: \n",
      " 0       False\n",
      "2       False\n",
      "3       False\n",
      "4       False\n",
      "5       False\n",
      "        ...  \n",
      "5100    False\n",
      "5102    False\n",
      "5106    False\n",
      "5107    False\n",
      "5108    False\n",
      "Length: 3425, dtype: bool\n"
     ]
    }
   ],
   "source": [
    "print(\"valores duplicados: \\n\", dataframe.duplicated())"
   ]
  },
  {
   "cell_type": "code",
   "execution_count": 9,
   "metadata": {
    "pycharm": {
     "name": "#%%\n"
    }
   },
   "outputs": [
    {
     "data": {
      "text/plain": [
       "gender                 0.609051\n",
       "age                   48.652555\n",
       "hypertension           0.119124\n",
       "heart_disease          0.060146\n",
       "avg_glucose_level    108.311670\n",
       "bmi                   30.292350\n",
       "smoking_status         0.674453\n",
       "stroke                 0.052555\n",
       "dtype: float64"
      ]
     },
     "execution_count": 9,
     "metadata": {},
     "output_type": "execute_result"
    }
   ],
   "source": [
    "dataframe.mean()"
   ]
  },
  {
   "cell_type": "code",
   "execution_count": 10,
   "metadata": {
    "pycharm": {
     "name": "#%%\n"
    }
   },
   "outputs": [
    {
     "data": {
      "text/html": [
       "<style type=\"text/css\">\n",
       "#T_34f76_row0_col0, #T_34f76_row1_col1, #T_34f76_row2_col2, #T_34f76_row3_col3, #T_34f76_row4_col4, #T_34f76_row5_col5, #T_34f76_row6_col6, #T_34f76_row7_col7 {\n",
       "  background-color: #b40426;\n",
       "  color: #f1f1f1;\n",
       "}\n",
       "#T_34f76_row0_col1, #T_34f76_row0_col2, #T_34f76_row0_col3, #T_34f76_row0_col4, #T_34f76_row0_col5, #T_34f76_row0_col6, #T_34f76_row0_col7, #T_34f76_row3_col0 {\n",
       "  background-color: #3b4cc0;\n",
       "  color: #f1f1f1;\n",
       "}\n",
       "#T_34f76_row1_col0, #T_34f76_row6_col5 {\n",
       "  background-color: #4a63d3;\n",
       "  color: #f1f1f1;\n",
       "}\n",
       "#T_34f76_row1_col2 {\n",
       "  background-color: #9dbdff;\n",
       "  color: #000000;\n",
       "}\n",
       "#T_34f76_row1_col3 {\n",
       "  background-color: #a9c6fd;\n",
       "  color: #000000;\n",
       "}\n",
       "#T_34f76_row1_col4 {\n",
       "  background-color: #98b9ff;\n",
       "  color: #000000;\n",
       "}\n",
       "#T_34f76_row1_col5, #T_34f76_row5_col3 {\n",
       "  background-color: #5673e0;\n",
       "  color: #f1f1f1;\n",
       "}\n",
       "#T_34f76_row1_col6, #T_34f76_row5_col1 {\n",
       "  background-color: #5f7fe8;\n",
       "  color: #f1f1f1;\n",
       "}\n",
       "#T_34f76_row1_col7 {\n",
       "  background-color: #8db0fe;\n",
       "  color: #000000;\n",
       "}\n",
       "#T_34f76_row2_col0 {\n",
       "  background-color: #4b64d5;\n",
       "  color: #f1f1f1;\n",
       "}\n",
       "#T_34f76_row2_col1 {\n",
       "  background-color: #9ebeff;\n",
       "  color: #000000;\n",
       "}\n",
       "#T_34f76_row2_col3 {\n",
       "  background-color: #799cf8;\n",
       "  color: #f1f1f1;\n",
       "}\n",
       "#T_34f76_row2_col4 {\n",
       "  background-color: #84a7fc;\n",
       "  color: #f1f1f1;\n",
       "}\n",
       "#T_34f76_row2_col5 {\n",
       "  background-color: #688aef;\n",
       "  color: #f1f1f1;\n",
       "}\n",
       "#T_34f76_row2_col6 {\n",
       "  background-color: #4f69d9;\n",
       "  color: #f1f1f1;\n",
       "}\n",
       "#T_34f76_row2_col7 {\n",
       "  background-color: #6b8df0;\n",
       "  color: #f1f1f1;\n",
       "}\n",
       "#T_34f76_row3_col1 {\n",
       "  background-color: #9bbcff;\n",
       "  color: #000000;\n",
       "}\n",
       "#T_34f76_row3_col2 {\n",
       "  background-color: #6788ee;\n",
       "  color: #f1f1f1;\n",
       "}\n",
       "#T_34f76_row3_col4 {\n",
       "  background-color: #7b9ff9;\n",
       "  color: #f1f1f1;\n",
       "}\n",
       "#T_34f76_row3_col5 {\n",
       "  background-color: #3e51c5;\n",
       "  color: #f1f1f1;\n",
       "}\n",
       "#T_34f76_row3_col6 {\n",
       "  background-color: #6282ea;\n",
       "  color: #f1f1f1;\n",
       "}\n",
       "#T_34f76_row3_col7, #T_34f76_row4_col7, #T_34f76_row6_col3 {\n",
       "  background-color: #6a8bef;\n",
       "  color: #f1f1f1;\n",
       "}\n",
       "#T_34f76_row4_col0 {\n",
       "  background-color: #4358cb;\n",
       "  color: #f1f1f1;\n",
       "}\n",
       "#T_34f76_row4_col1 {\n",
       "  background-color: #93b5fe;\n",
       "  color: #000000;\n",
       "}\n",
       "#T_34f76_row4_col2, #T_34f76_row7_col4 {\n",
       "  background-color: #7a9df8;\n",
       "  color: #f1f1f1;\n",
       "}\n",
       "#T_34f76_row4_col3 {\n",
       "  background-color: #82a6fb;\n",
       "  color: #f1f1f1;\n",
       "}\n",
       "#T_34f76_row4_col5 {\n",
       "  background-color: #7093f3;\n",
       "  color: #f1f1f1;\n",
       "}\n",
       "#T_34f76_row4_col6, #T_34f76_row6_col4 {\n",
       "  background-color: #506bda;\n",
       "  color: #f1f1f1;\n",
       "}\n",
       "#T_34f76_row5_col0, #T_34f76_row7_col0 {\n",
       "  background-color: #536edd;\n",
       "  color: #f1f1f1;\n",
       "}\n",
       "#T_34f76_row5_col2 {\n",
       "  background-color: #6f92f3;\n",
       "  color: #f1f1f1;\n",
       "}\n",
       "#T_34f76_row5_col4 {\n",
       "  background-color: #80a3fa;\n",
       "  color: #f1f1f1;\n",
       "}\n",
       "#T_34f76_row5_col6 {\n",
       "  background-color: #5a78e4;\n",
       "  color: #f1f1f1;\n",
       "}\n",
       "#T_34f76_row5_col7, #T_34f76_row6_col0, #T_34f76_row7_col5 {\n",
       "  background-color: #4257c9;\n",
       "  color: #f1f1f1;\n",
       "}\n",
       "#T_34f76_row6_col1 {\n",
       "  background-color: #5875e1;\n",
       "  color: #f1f1f1;\n",
       "}\n",
       "#T_34f76_row6_col2 {\n",
       "  background-color: #455cce;\n",
       "  color: #f1f1f1;\n",
       "}\n",
       "#T_34f76_row6_col7 {\n",
       "  background-color: #445acc;\n",
       "  color: #f1f1f1;\n",
       "}\n",
       "#T_34f76_row7_col1 {\n",
       "  background-color: #96b7ff;\n",
       "  color: #000000;\n",
       "}\n",
       "#T_34f76_row7_col2 {\n",
       "  background-color: #7295f4;\n",
       "  color: #f1f1f1;\n",
       "}\n",
       "#T_34f76_row7_col3 {\n",
       "  background-color: #81a4fb;\n",
       "  color: #f1f1f1;\n",
       "}\n",
       "#T_34f76_row7_col6 {\n",
       "  background-color: #5572df;\n",
       "  color: #f1f1f1;\n",
       "}\n",
       "</style>\n",
       "<table id=\"T_34f76_\">\n",
       "  <thead>\n",
       "    <tr>\n",
       "      <th class=\"blank level0\" >&nbsp;</th>\n",
       "      <th class=\"col_heading level0 col0\" >gender</th>\n",
       "      <th class=\"col_heading level0 col1\" >age</th>\n",
       "      <th class=\"col_heading level0 col2\" >hypertension</th>\n",
       "      <th class=\"col_heading level0 col3\" >heart_disease</th>\n",
       "      <th class=\"col_heading level0 col4\" >avg_glucose_level</th>\n",
       "      <th class=\"col_heading level0 col5\" >bmi</th>\n",
       "      <th class=\"col_heading level0 col6\" >smoking_status</th>\n",
       "      <th class=\"col_heading level0 col7\" >stroke</th>\n",
       "    </tr>\n",
       "  </thead>\n",
       "  <tbody>\n",
       "    <tr>\n",
       "      <th id=\"T_34f76_level0_row0\" class=\"row_heading level0 row0\" >gender</th>\n",
       "      <td id=\"T_34f76_row0_col0\" class=\"data row0 col0\" >1.000000</td>\n",
       "      <td id=\"T_34f76_row0_col1\" class=\"data row0 col1\" >-0.044580</td>\n",
       "      <td id=\"T_34f76_row0_col2\" class=\"data row0 col2\" >-0.037853</td>\n",
       "      <td id=\"T_34f76_row0_col3\" class=\"data row0 col3\" >-0.101834</td>\n",
       "      <td id=\"T_34f76_row0_col4\" class=\"data row0 col4\" >-0.070169</td>\n",
       "      <td id=\"T_34f76_row0_col5\" class=\"data row0 col5\" >-0.014284</td>\n",
       "      <td id=\"T_34f76_row0_col6\" class=\"data row0 col6\" >-0.073409</td>\n",
       "      <td id=\"T_34f76_row0_col7\" class=\"data row0 col7\" >-0.012413</td>\n",
       "    </tr>\n",
       "    <tr>\n",
       "      <th id=\"T_34f76_level0_row1\" class=\"row_heading level0 row1\" >age</th>\n",
       "      <td id=\"T_34f76_row1_col0\" class=\"data row1 col0\" >-0.044580</td>\n",
       "      <td id=\"T_34f76_row1_col1\" class=\"data row1 col1\" >1.000000</td>\n",
       "      <td id=\"T_34f76_row1_col2\" class=\"data row1 col2\" >0.267030</td>\n",
       "      <td id=\"T_34f76_row1_col3\" class=\"data row1 col3\" >0.260077</td>\n",
       "      <td id=\"T_34f76_row1_col4\" class=\"data row1 col4\" >0.233974</td>\n",
       "      <td id=\"T_34f76_row1_col5\" class=\"data row1 col5\" >0.079317</td>\n",
       "      <td id=\"T_34f76_row1_col6\" class=\"data row1 col6\" >0.054104</td>\n",
       "      <td id=\"T_34f76_row1_col7\" class=\"data row1 col7\" >0.242465</td>\n",
       "    </tr>\n",
       "    <tr>\n",
       "      <th id=\"T_34f76_level0_row2\" class=\"row_heading level0 row2\" >hypertension</th>\n",
       "      <td id=\"T_34f76_row2_col0\" class=\"data row2 col0\" >-0.037853</td>\n",
       "      <td id=\"T_34f76_row2_col1\" class=\"data row2 col1\" >0.267030</td>\n",
       "      <td id=\"T_34f76_row2_col2\" class=\"data row2 col2\" >1.000000</td>\n",
       "      <td id=\"T_34f76_row2_col3\" class=\"data row2 col3\" >0.111683</td>\n",
       "      <td id=\"T_34f76_row2_col4\" class=\"data row2 col4\" >0.168769</td>\n",
       "      <td id=\"T_34f76_row2_col5\" class=\"data row2 col5\" >0.132544</td>\n",
       "      <td id=\"T_34f76_row2_col6\" class=\"data row2 col6\" >-0.001316</td>\n",
       "      <td id=\"T_34f76_row2_col7\" class=\"data row2 col7\" >0.143626</td>\n",
       "    </tr>\n",
       "    <tr>\n",
       "      <th id=\"T_34f76_level0_row3\" class=\"row_heading level0 row3\" >heart_disease</th>\n",
       "      <td id=\"T_34f76_row3_col0\" class=\"data row3 col0\" >-0.101834</td>\n",
       "      <td id=\"T_34f76_row3_col1\" class=\"data row3 col1\" >0.260077</td>\n",
       "      <td id=\"T_34f76_row3_col2\" class=\"data row3 col2\" >0.111683</td>\n",
       "      <td id=\"T_34f76_row3_col3\" class=\"data row3 col3\" >1.000000</td>\n",
       "      <td id=\"T_34f76_row3_col4\" class=\"data row3 col4\" >0.143152</td>\n",
       "      <td id=\"T_34f76_row3_col5\" class=\"data row3 col5\" >0.001208</td>\n",
       "      <td id=\"T_34f76_row3_col6\" class=\"data row3 col6\" >0.062549</td>\n",
       "      <td id=\"T_34f76_row3_col7\" class=\"data row3 col7\" >0.138538</td>\n",
       "    </tr>\n",
       "    <tr>\n",
       "      <th id=\"T_34f76_level0_row4\" class=\"row_heading level0 row4\" >avg_glucose_level</th>\n",
       "      <td id=\"T_34f76_row4_col0\" class=\"data row4 col0\" >-0.070169</td>\n",
       "      <td id=\"T_34f76_row4_col1\" class=\"data row4 col1\" >0.233974</td>\n",
       "      <td id=\"T_34f76_row4_col2\" class=\"data row4 col2\" >0.168769</td>\n",
       "      <td id=\"T_34f76_row4_col3\" class=\"data row4 col3\" >0.143152</td>\n",
       "      <td id=\"T_34f76_row4_col4\" class=\"data row4 col4\" >1.000000</td>\n",
       "      <td id=\"T_34f76_row4_col5\" class=\"data row4 col5\" >0.156675</td>\n",
       "      <td id=\"T_34f76_row4_col6\" class=\"data row4 col6\" >0.006199</td>\n",
       "      <td id=\"T_34f76_row4_col7\" class=\"data row4 col7\" >0.140515</td>\n",
       "    </tr>\n",
       "    <tr>\n",
       "      <th id=\"T_34f76_level0_row5\" class=\"row_heading level0 row5\" >bmi</th>\n",
       "      <td id=\"T_34f76_row5_col0\" class=\"data row5 col0\" >-0.014284</td>\n",
       "      <td id=\"T_34f76_row5_col1\" class=\"data row5 col1\" >0.079317</td>\n",
       "      <td id=\"T_34f76_row5_col2\" class=\"data row5 col2\" >0.132544</td>\n",
       "      <td id=\"T_34f76_row5_col3\" class=\"data row5 col3\" >0.001208</td>\n",
       "      <td id=\"T_34f76_row5_col4\" class=\"data row5 col4\" >0.156675</td>\n",
       "      <td id=\"T_34f76_row5_col5\" class=\"data row5 col5\" >1.000000</td>\n",
       "      <td id=\"T_34f76_row5_col6\" class=\"data row5 col6\" >0.037676</td>\n",
       "      <td id=\"T_34f76_row5_col7\" class=\"data row5 col7\" >0.011601</td>\n",
       "    </tr>\n",
       "    <tr>\n",
       "      <th id=\"T_34f76_level0_row6\" class=\"row_heading level0 row6\" >smoking_status</th>\n",
       "      <td id=\"T_34f76_row6_col0\" class=\"data row6 col0\" >-0.073409</td>\n",
       "      <td id=\"T_34f76_row6_col1\" class=\"data row6 col1\" >0.054104</td>\n",
       "      <td id=\"T_34f76_row6_col2\" class=\"data row6 col2\" >-0.001316</td>\n",
       "      <td id=\"T_34f76_row6_col3\" class=\"data row6 col3\" >0.062549</td>\n",
       "      <td id=\"T_34f76_row6_col4\" class=\"data row6 col4\" >0.006199</td>\n",
       "      <td id=\"T_34f76_row6_col5\" class=\"data row6 col5\" >0.037676</td>\n",
       "      <td id=\"T_34f76_row6_col6\" class=\"data row6 col6\" >1.000000</td>\n",
       "      <td id=\"T_34f76_row6_col7\" class=\"data row6 col7\" >0.022071</td>\n",
       "    </tr>\n",
       "    <tr>\n",
       "      <th id=\"T_34f76_level0_row7\" class=\"row_heading level0 row7\" >stroke</th>\n",
       "      <td id=\"T_34f76_row7_col0\" class=\"data row7 col0\" >-0.012413</td>\n",
       "      <td id=\"T_34f76_row7_col1\" class=\"data row7 col1\" >0.242465</td>\n",
       "      <td id=\"T_34f76_row7_col2\" class=\"data row7 col2\" >0.143626</td>\n",
       "      <td id=\"T_34f76_row7_col3\" class=\"data row7 col3\" >0.138538</td>\n",
       "      <td id=\"T_34f76_row7_col4\" class=\"data row7 col4\" >0.140515</td>\n",
       "      <td id=\"T_34f76_row7_col5\" class=\"data row7 col5\" >0.011601</td>\n",
       "      <td id=\"T_34f76_row7_col6\" class=\"data row7 col6\" >0.022071</td>\n",
       "      <td id=\"T_34f76_row7_col7\" class=\"data row7 col7\" >1.000000</td>\n",
       "    </tr>\n",
       "  </tbody>\n",
       "</table>\n"
      ],
      "text/plain": [
       "<pandas.io.formats.style.Styler at 0x218339878e0>"
      ]
     },
     "execution_count": 10,
     "metadata": {},
     "output_type": "execute_result"
    }
   ],
   "source": [
    "correlacao = dataframe.corr()\n",
    "correlacao.style.background_gradient(cmap=\"coolwarm\")"
   ]
  },
  {
   "cell_type": "markdown",
   "metadata": {
    "pycharm": {
     "name": "#%% md\n"
    }
   },
   "source": [
    "# Correlação\n",
    "\n",
    "<b> remover a coluna de 'gender', 'bmi' e 'smoking_status' porque a correlação entre elas e o objetivo é tão baixa que elas não influenciam o suficiente para chegar em algum resultado. </b>"
   ]
  },
  {
   "cell_type": "code",
   "execution_count": 11,
   "metadata": {
    "pycharm": {
     "name": "#%%\n"
    }
   },
   "outputs": [],
   "source": [
    "dataframe = dataframe.drop(columns=[\"gender\", \"bmi\", \"smoking_status\"])"
   ]
  },
  {
   "cell_type": "code",
   "execution_count": 12,
   "metadata": {
    "pycharm": {
     "name": "#%%\n"
    }
   },
   "outputs": [],
   "source": [
    "# pandas_profiling.ProfileReport(dataframe)"
   ]
  },
  {
   "cell_type": "code",
   "execution_count": 14,
   "metadata": {
    "pycharm": {
     "name": "#%%\n"
    }
   },
   "outputs": [
    {
     "data": {
      "text/html": [
       "<div>\n",
       "<style scoped>\n",
       "    .dataframe tbody tr th:only-of-type {\n",
       "        vertical-align: middle;\n",
       "    }\n",
       "\n",
       "    .dataframe tbody tr th {\n",
       "        vertical-align: top;\n",
       "    }\n",
       "\n",
       "    .dataframe thead th {\n",
       "        text-align: right;\n",
       "    }\n",
       "</style>\n",
       "<table border=\"1\" class=\"dataframe\">\n",
       "  <thead>\n",
       "    <tr style=\"text-align: right;\">\n",
       "      <th></th>\n",
       "      <th>age</th>\n",
       "      <th>hypertension</th>\n",
       "      <th>heart_disease</th>\n",
       "      <th>avg_glucose_level</th>\n",
       "      <th>stroke</th>\n",
       "    </tr>\n",
       "  </thead>\n",
       "  <tbody>\n",
       "    <tr>\n",
       "      <th>0</th>\n",
       "      <td>67.0</td>\n",
       "      <td>0</td>\n",
       "      <td>1</td>\n",
       "      <td>228.69</td>\n",
       "      <td>1</td>\n",
       "    </tr>\n",
       "    <tr>\n",
       "      <th>2</th>\n",
       "      <td>80.0</td>\n",
       "      <td>0</td>\n",
       "      <td>1</td>\n",
       "      <td>105.92</td>\n",
       "      <td>1</td>\n",
       "    </tr>\n",
       "    <tr>\n",
       "      <th>3</th>\n",
       "      <td>49.0</td>\n",
       "      <td>0</td>\n",
       "      <td>0</td>\n",
       "      <td>171.23</td>\n",
       "      <td>1</td>\n",
       "    </tr>\n",
       "    <tr>\n",
       "      <th>4</th>\n",
       "      <td>79.0</td>\n",
       "      <td>1</td>\n",
       "      <td>0</td>\n",
       "      <td>174.12</td>\n",
       "      <td>1</td>\n",
       "    </tr>\n",
       "    <tr>\n",
       "      <th>5</th>\n",
       "      <td>81.0</td>\n",
       "      <td>0</td>\n",
       "      <td>0</td>\n",
       "      <td>186.21</td>\n",
       "      <td>1</td>\n",
       "    </tr>\n",
       "    <tr>\n",
       "      <th>...</th>\n",
       "      <td>...</td>\n",
       "      <td>...</td>\n",
       "      <td>...</td>\n",
       "      <td>...</td>\n",
       "      <td>...</td>\n",
       "    </tr>\n",
       "    <tr>\n",
       "      <th>5100</th>\n",
       "      <td>82.0</td>\n",
       "      <td>1</td>\n",
       "      <td>0</td>\n",
       "      <td>71.97</td>\n",
       "      <td>0</td>\n",
       "    </tr>\n",
       "    <tr>\n",
       "      <th>5102</th>\n",
       "      <td>57.0</td>\n",
       "      <td>0</td>\n",
       "      <td>0</td>\n",
       "      <td>77.93</td>\n",
       "      <td>0</td>\n",
       "    </tr>\n",
       "    <tr>\n",
       "      <th>5106</th>\n",
       "      <td>81.0</td>\n",
       "      <td>0</td>\n",
       "      <td>0</td>\n",
       "      <td>125.20</td>\n",
       "      <td>0</td>\n",
       "    </tr>\n",
       "    <tr>\n",
       "      <th>5107</th>\n",
       "      <td>35.0</td>\n",
       "      <td>0</td>\n",
       "      <td>0</td>\n",
       "      <td>82.99</td>\n",
       "      <td>0</td>\n",
       "    </tr>\n",
       "    <tr>\n",
       "      <th>5108</th>\n",
       "      <td>51.0</td>\n",
       "      <td>0</td>\n",
       "      <td>0</td>\n",
       "      <td>166.29</td>\n",
       "      <td>0</td>\n",
       "    </tr>\n",
       "  </tbody>\n",
       "</table>\n",
       "<p>3425 rows × 5 columns</p>\n",
       "</div>"
      ],
      "text/plain": [
       "       age  hypertension  heart_disease  avg_glucose_level  stroke\n",
       "0     67.0             0              1             228.69       1\n",
       "2     80.0             0              1             105.92       1\n",
       "3     49.0             0              0             171.23       1\n",
       "4     79.0             1              0             174.12       1\n",
       "5     81.0             0              0             186.21       1\n",
       "...    ...           ...            ...                ...     ...\n",
       "5100  82.0             1              0              71.97       0\n",
       "5102  57.0             0              0              77.93       0\n",
       "5106  81.0             0              0             125.20       0\n",
       "5107  35.0             0              0              82.99       0\n",
       "5108  51.0             0              0             166.29       0\n",
       "\n",
       "[3425 rows x 5 columns]"
      ]
     },
     "execution_count": 14,
     "metadata": {},
     "output_type": "execute_result"
    }
   ],
   "source": [
    "y = dataframe[\"stroke\"]\n",
    "# X = dataframe.drop(columns=\"stroke\")\n",
    "X = dataframe\n",
    "X"
   ]
  },
  {
   "cell_type": "markdown",
   "metadata": {
    "pycharm": {
     "name": "#%% md\n"
    }
   },
   "source": [
    "# Executando KNN"
   ]
  },
  {
   "cell_type": "code",
   "execution_count": 15,
   "metadata": {
    "pycharm": {
     "name": "#%%\n"
    }
   },
   "outputs": [],
   "source": [
    "# HoldOut\n",
    "X_train, X_test, y_train, y_test = train_test_split(X, y, test_size=0.3, random_state=10)"
   ]
  },
  {
   "cell_type": "code",
   "execution_count": 16,
   "metadata": {
    "pycharm": {
     "name": "#%%\n"
    }
   },
   "outputs": [
    {
     "data": {
      "text/html": [
       "<div>\n",
       "<style scoped>\n",
       "    .dataframe tbody tr th:only-of-type {\n",
       "        vertical-align: middle;\n",
       "    }\n",
       "\n",
       "    .dataframe tbody tr th {\n",
       "        vertical-align: top;\n",
       "    }\n",
       "\n",
       "    .dataframe thead th {\n",
       "        text-align: right;\n",
       "    }\n",
       "</style>\n",
       "<table border=\"1\" class=\"dataframe\">\n",
       "  <thead>\n",
       "    <tr style=\"text-align: right;\">\n",
       "      <th></th>\n",
       "      <th>age</th>\n",
       "      <th>hypertension</th>\n",
       "      <th>heart_disease</th>\n",
       "      <th>avg_glucose_level</th>\n",
       "      <th>stroke</th>\n",
       "    </tr>\n",
       "  </thead>\n",
       "  <tbody>\n",
       "    <tr>\n",
       "      <th>1878</th>\n",
       "      <td>63.0</td>\n",
       "      <td>0</td>\n",
       "      <td>0</td>\n",
       "      <td>104.70</td>\n",
       "      <td>0</td>\n",
       "    </tr>\n",
       "    <tr>\n",
       "      <th>2513</th>\n",
       "      <td>28.0</td>\n",
       "      <td>0</td>\n",
       "      <td>0</td>\n",
       "      <td>75.50</td>\n",
       "      <td>0</td>\n",
       "    </tr>\n",
       "    <tr>\n",
       "      <th>211</th>\n",
       "      <td>51.0</td>\n",
       "      <td>0</td>\n",
       "      <td>0</td>\n",
       "      <td>103.43</td>\n",
       "      <td>1</td>\n",
       "    </tr>\n",
       "    <tr>\n",
       "      <th>2110</th>\n",
       "      <td>77.0</td>\n",
       "      <td>0</td>\n",
       "      <td>1</td>\n",
       "      <td>102.96</td>\n",
       "      <td>0</td>\n",
       "    </tr>\n",
       "    <tr>\n",
       "      <th>1262</th>\n",
       "      <td>67.0</td>\n",
       "      <td>0</td>\n",
       "      <td>0</td>\n",
       "      <td>113.34</td>\n",
       "      <td>0</td>\n",
       "    </tr>\n",
       "    <tr>\n",
       "      <th>...</th>\n",
       "      <td>...</td>\n",
       "      <td>...</td>\n",
       "      <td>...</td>\n",
       "      <td>...</td>\n",
       "      <td>...</td>\n",
       "    </tr>\n",
       "    <tr>\n",
       "      <th>4762</th>\n",
       "      <td>76.0</td>\n",
       "      <td>1</td>\n",
       "      <td>0</td>\n",
       "      <td>78.68</td>\n",
       "      <td>0</td>\n",
       "    </tr>\n",
       "    <tr>\n",
       "      <th>1977</th>\n",
       "      <td>26.0</td>\n",
       "      <td>0</td>\n",
       "      <td>0</td>\n",
       "      <td>70.61</td>\n",
       "      <td>0</td>\n",
       "    </tr>\n",
       "    <tr>\n",
       "      <th>749</th>\n",
       "      <td>55.0</td>\n",
       "      <td>0</td>\n",
       "      <td>0</td>\n",
       "      <td>65.12</td>\n",
       "      <td>0</td>\n",
       "    </tr>\n",
       "    <tr>\n",
       "      <th>4765</th>\n",
       "      <td>76.0</td>\n",
       "      <td>1</td>\n",
       "      <td>0</td>\n",
       "      <td>63.28</td>\n",
       "      <td>0</td>\n",
       "    </tr>\n",
       "    <tr>\n",
       "      <th>1892</th>\n",
       "      <td>37.0</td>\n",
       "      <td>0</td>\n",
       "      <td>0</td>\n",
       "      <td>217.11</td>\n",
       "      <td>0</td>\n",
       "    </tr>\n",
       "  </tbody>\n",
       "</table>\n",
       "<p>2397 rows × 5 columns</p>\n",
       "</div>"
      ],
      "text/plain": [
       "       age  hypertension  heart_disease  avg_glucose_level  stroke\n",
       "1878  63.0             0              0             104.70       0\n",
       "2513  28.0             0              0              75.50       0\n",
       "211   51.0             0              0             103.43       1\n",
       "2110  77.0             0              1             102.96       0\n",
       "1262  67.0             0              0             113.34       0\n",
       "...    ...           ...            ...                ...     ...\n",
       "4762  76.0             1              0              78.68       0\n",
       "1977  26.0             0              0              70.61       0\n",
       "749   55.0             0              0              65.12       0\n",
       "4765  76.0             1              0              63.28       0\n",
       "1892  37.0             0              0             217.11       0\n",
       "\n",
       "[2397 rows x 5 columns]"
      ]
     },
     "execution_count": 16,
     "metadata": {},
     "output_type": "execute_result"
    }
   ],
   "source": [
    "X_train"
   ]
  },
  {
   "cell_type": "code",
   "execution_count": 17,
   "metadata": {
    "pycharm": {
     "name": "#%%\n"
    }
   },
   "outputs": [
    {
     "data": {
      "text/html": [
       "<div>\n",
       "<style scoped>\n",
       "    .dataframe tbody tr th:only-of-type {\n",
       "        vertical-align: middle;\n",
       "    }\n",
       "\n",
       "    .dataframe tbody tr th {\n",
       "        vertical-align: top;\n",
       "    }\n",
       "\n",
       "    .dataframe thead th {\n",
       "        text-align: right;\n",
       "    }\n",
       "</style>\n",
       "<table border=\"1\" class=\"dataframe\">\n",
       "  <thead>\n",
       "    <tr style=\"text-align: right;\">\n",
       "      <th></th>\n",
       "      <th>age</th>\n",
       "      <th>hypertension</th>\n",
       "      <th>heart_disease</th>\n",
       "      <th>avg_glucose_level</th>\n",
       "      <th>stroke</th>\n",
       "    </tr>\n",
       "  </thead>\n",
       "  <tbody>\n",
       "    <tr>\n",
       "      <th>2211</th>\n",
       "      <td>41.0</td>\n",
       "      <td>0</td>\n",
       "      <td>0</td>\n",
       "      <td>89.14</td>\n",
       "      <td>0</td>\n",
       "    </tr>\n",
       "    <tr>\n",
       "      <th>4819</th>\n",
       "      <td>82.0</td>\n",
       "      <td>0</td>\n",
       "      <td>0</td>\n",
       "      <td>113.45</td>\n",
       "      <td>0</td>\n",
       "    </tr>\n",
       "    <tr>\n",
       "      <th>2115</th>\n",
       "      <td>49.0</td>\n",
       "      <td>0</td>\n",
       "      <td>0</td>\n",
       "      <td>114.76</td>\n",
       "      <td>0</td>\n",
       "    </tr>\n",
       "    <tr>\n",
       "      <th>3639</th>\n",
       "      <td>51.0</td>\n",
       "      <td>1</td>\n",
       "      <td>0</td>\n",
       "      <td>85.84</td>\n",
       "      <td>0</td>\n",
       "    </tr>\n",
       "    <tr>\n",
       "      <th>2664</th>\n",
       "      <td>47.0</td>\n",
       "      <td>0</td>\n",
       "      <td>0</td>\n",
       "      <td>95.04</td>\n",
       "      <td>0</td>\n",
       "    </tr>\n",
       "    <tr>\n",
       "      <th>...</th>\n",
       "      <td>...</td>\n",
       "      <td>...</td>\n",
       "      <td>...</td>\n",
       "      <td>...</td>\n",
       "      <td>...</td>\n",
       "    </tr>\n",
       "    <tr>\n",
       "      <th>4144</th>\n",
       "      <td>54.0</td>\n",
       "      <td>0</td>\n",
       "      <td>0</td>\n",
       "      <td>110.38</td>\n",
       "      <td>0</td>\n",
       "    </tr>\n",
       "    <tr>\n",
       "      <th>4509</th>\n",
       "      <td>16.0</td>\n",
       "      <td>0</td>\n",
       "      <td>0</td>\n",
       "      <td>82.95</td>\n",
       "      <td>0</td>\n",
       "    </tr>\n",
       "    <tr>\n",
       "      <th>4463</th>\n",
       "      <td>54.0</td>\n",
       "      <td>0</td>\n",
       "      <td>0</td>\n",
       "      <td>89.41</td>\n",
       "      <td>0</td>\n",
       "    </tr>\n",
       "    <tr>\n",
       "      <th>3799</th>\n",
       "      <td>40.0</td>\n",
       "      <td>0</td>\n",
       "      <td>0</td>\n",
       "      <td>92.35</td>\n",
       "      <td>0</td>\n",
       "    </tr>\n",
       "    <tr>\n",
       "      <th>144</th>\n",
       "      <td>72.0</td>\n",
       "      <td>1</td>\n",
       "      <td>0</td>\n",
       "      <td>221.79</td>\n",
       "      <td>1</td>\n",
       "    </tr>\n",
       "  </tbody>\n",
       "</table>\n",
       "<p>1028 rows × 5 columns</p>\n",
       "</div>"
      ],
      "text/plain": [
       "       age  hypertension  heart_disease  avg_glucose_level  stroke\n",
       "2211  41.0             0              0              89.14       0\n",
       "4819  82.0             0              0             113.45       0\n",
       "2115  49.0             0              0             114.76       0\n",
       "3639  51.0             1              0              85.84       0\n",
       "2664  47.0             0              0              95.04       0\n",
       "...    ...           ...            ...                ...     ...\n",
       "4144  54.0             0              0             110.38       0\n",
       "4509  16.0             0              0              82.95       0\n",
       "4463  54.0             0              0              89.41       0\n",
       "3799  40.0             0              0              92.35       0\n",
       "144   72.0             1              0             221.79       1\n",
       "\n",
       "[1028 rows x 5 columns]"
      ]
     },
     "execution_count": 17,
     "metadata": {},
     "output_type": "execute_result"
    }
   ],
   "source": [
    "X_test"
   ]
  },
  {
   "cell_type": "code",
   "execution_count": 18,
   "metadata": {
    "pycharm": {
     "name": "#%%\n"
    }
   },
   "outputs": [
    {
     "data": {
      "text/plain": [
       "1878    0\n",
       "2513    0\n",
       "211     1\n",
       "2110    0\n",
       "1262    0\n",
       "       ..\n",
       "4762    0\n",
       "1977    0\n",
       "749     0\n",
       "4765    0\n",
       "1892    0\n",
       "Name: stroke, Length: 2397, dtype: int64"
      ]
     },
     "execution_count": 18,
     "metadata": {},
     "output_type": "execute_result"
    }
   ],
   "source": [
    "y_train"
   ]
  },
  {
   "cell_type": "code",
   "execution_count": 19,
   "metadata": {
    "pycharm": {
     "name": "#%%\n"
    }
   },
   "outputs": [
    {
     "data": {
      "text/plain": [
       "2211    0\n",
       "4819    0\n",
       "2115    0\n",
       "3639    0\n",
       "2664    0\n",
       "       ..\n",
       "4144    0\n",
       "4509    0\n",
       "4463    0\n",
       "3799    0\n",
       "144     1\n",
       "Name: stroke, Length: 1028, dtype: int64"
      ]
     },
     "execution_count": 19,
     "metadata": {},
     "output_type": "execute_result"
    }
   ],
   "source": [
    "y_test"
   ]
  },
  {
   "cell_type": "code",
   "execution_count": 23,
   "metadata": {
    "pycharm": {
     "name": "#%%\n"
    }
   },
   "outputs": [
    {
     "name": "stdout",
     "output_type": "stream",
     "text": [
      "K-Fold (R^2) Resultados: [0.94160584 0.94452555 0.9459854  0.94452555 0.94306569]\n",
      "Media R^2 para Cross-Validation K-Fold: 0.944\n"
     ]
    }
   ],
   "source": [
    "# Cross Validation\n",
    "knc = KNeighborsClassifier()\n",
    "kns = StratifiedKFold(n_splits=5, shuffle=True, random_state=10)\n",
    "\n",
    "\n",
    "kfold  = KFold(n_splits=5, shuffle=True)\n",
    "result = cross_val_score(knc, X, y, cv = kns)\n",
    "\n",
    "\n",
    "print(\"K-Fold (R^2) Resultados: {0}\".format(result))\n",
    "print(\"Media R^2 para Cross-Validation K-Fold: {:.3}\".format(result.mean()))\n"
   ]
  },
  {
   "cell_type": "markdown",
   "metadata": {
    "pycharm": {
     "name": "#%% md\n"
    }
   },
   "source": [
    "## k = 1\n"
   ]
  },
  {
   "cell_type": "code",
   "execution_count": 24,
   "metadata": {
    "pycharm": {
     "name": "#%%\n"
    }
   },
   "outputs": [
    {
     "name": "stdout",
     "output_type": "stream",
     "text": [
      "knn score =  0.943579766536965\n"
     ]
    }
   ],
   "source": [
    "knc = KNeighborsClassifier()\n",
    "knc.fit(X_train, y_train)\n",
    "resultado = knc.predict(X_test)\n",
    "\n",
    "KNeighborsClassifier(algorithm=\"auto\", n_neighbors=1)\n",
    "\n",
    "print(\"knn score = \", knc.score(X_test, y_test))\n",
    "#print(\"knn resultado = \", resultado)"
   ]
  },
  {
   "cell_type": "code",
   "execution_count": 25,
   "metadata": {
    "pycharm": {
     "name": "#%%\n"
    }
   },
   "outputs": [
    {
     "name": "stdout",
     "output_type": "stream",
     "text": [
      "knn score =  0.943579766536965\n",
      "knn resultado =  [0 0 0 ... 0 0 1]\n",
      "acurácia =  0.933852140077821\n",
      "Sensibilidade =  0.25862068965517243\n",
      "precisão =  0.375\n"
     ]
    },
    {
     "data": {
      "image/png": "[encoded data removed]",
      "text/plain": [
       "<Figure size 432x288 with 2 Axes>"
      ]
     },
     "metadata": {
      "needs_background": "light"
     },
     "output_type": "display_data"
    }
   ],
   "source": [
    "import matplotlib\n",
    "matplotlib.use('module://matplotlib_inline.backend_inline')\n",
    "\n",
    "knn = KNeighborsClassifier(n_neighbors=1, algorithm=\"auto\")\n",
    "knn.fit(X_train, y_train)\n",
    "resultKNN = knn.predict(X_test)\n",
    "\n",
    "print(\"knn score = \", knc.score(X_test, y_test))\n",
    "print(\"knn resultado = \", resultKNN)\n",
    "\n",
    "print(\"acurácia = \", accuracy_score(y_test, resultKNN))\n",
    "print(\"Sensibilidade = \", recall_score(y_test, resultKNN))\n",
    "print(\"precisão = \", precision_score(y_test, resultKNN))\n",
    "\n",
    "\n",
    "matrizConfusao = confusion_matrix(y_test, resultKNN)\n",
    "cs = confusion_matrix(y_test, resultKNN)\n",
    "disp = ConfusionMatrixDisplay(cs)\n",
    "disp.plot(cmap=plt.cm.Blues)\n",
    "plt.show()"
   ]
  },
  {
   "cell_type": "markdown",
   "metadata": {
    "pycharm": {
     "name": "#%% md\n"
    }
   },
   "source": [
    "## K = 2"
   ]
  },
  {
   "cell_type": "code",
   "execution_count": 26,
   "metadata": {
    "pycharm": {
     "name": "#%%\n"
    }
   },
   "outputs": [
    {
     "name": "stdout",
     "output_type": "stream",
     "text": [
      "knn score =  0.943579766536965\n",
      "acurácia =  0.943579766536965\n",
      "Sensibilidade =  0.05172413793103448\n",
      "precisão =  0.5\n"
     ]
    },
    {
     "data": {
      "image/png": "[encoded data removed]",
      "text/plain": [
       "<Figure size 432x288 with 2 Axes>"
      ]
     },
     "metadata": {
      "needs_background": "light"
     },
     "output_type": "display_data"
    }
   ],
   "source": [
    "knn = KNeighborsClassifier(n_neighbors=2, algorithm=\"auto\")\n",
    "knn.fit(X_train, y_train)\n",
    "resultKNN = knn.predict(X_test)\n",
    "\n",
    "print(\"knn score = \", knc.score(X_test, y_test))\n",
    "\n",
    "print(\"acurácia = \", accuracy_score(y_test, resultado))\n",
    "print(\"Sensibilidade = \", recall_score(y_test, resultado))\n",
    "print(\"precisão = \", precision_score(y_test, resultado))\n",
    "\n",
    "\n",
    "matrizConfusao = confusion_matrix(y_test, resultKNN)\n",
    "cs = confusion_matrix(y_test, resultado)\n",
    "disp = ConfusionMatrixDisplay(cs)\n",
    "disp.plot(cmap=plt.cm.Blues)\n",
    "plt.show()"
   ]
  },
  {
   "cell_type": "markdown",
   "metadata": {
    "pycharm": {
     "name": "#%% md\n"
    }
   },
   "source": [
    "## k = 3"
   ]
  },
  {
   "cell_type": "code",
   "execution_count": 27,
   "metadata": {
    "pycharm": {
     "name": "#%%\n"
    }
   },
   "outputs": [
    {
     "name": "stdout",
     "output_type": "stream",
     "text": [
      "knn score =  0.943579766536965\n",
      "knn resultado =  [0 0 0 ... 0 0 1]\n",
      "acurácia =  0.943579766536965\n",
      "Sensibilidade =  0.05172413793103448\n",
      "precisão =  0.5\n"
     ]
    },
    {
     "data": {
      "image/png": "[encoded data removed]",
      "text/plain": [
       "<Figure size 432x288 with 2 Axes>"
      ]
     },
     "metadata": {
      "needs_background": "light"
     },
     "output_type": "display_data"
    }
   ],
   "source": [
    "knn = KNeighborsClassifier(n_neighbors=3, algorithm=\"auto\")\n",
    "knn.fit(X_train, y_train)\n",
    "resultKNN = knn.predict(X_test)\n",
    "\n",
    "print(\"knn score = \", knc.score(X_test, y_test))\n",
    "print(\"knn resultado = \", resultado)\n",
    "\n",
    "print(\"acurácia = \", accuracy_score(y_test, resultado))\n",
    "print(\"Sensibilidade = \", recall_score(y_test, resultado))\n",
    "print(\"precisão = \", precision_score(y_test, resultado))\n",
    "\n",
    "\n",
    "matrizConfusao = confusion_matrix(y_test, resultKNN)\n",
    "cs = confusion_matrix(y_test, resultado)\n",
    "disp = ConfusionMatrixDisplay(cs)\n",
    "disp.plot(cmap=plt.cm.Blues)\n",
    "plt.show()"
   ]
  },
  {
   "cell_type": "markdown",
   "metadata": {
    "pycharm": {
     "name": "#%% md\n"
    }
   },
   "source": [
    "## k = 4"
   ]
  },
  {
   "cell_type": "code",
   "execution_count": 28,
   "metadata": {
    "pycharm": {
     "name": "#%%\n"
    }
   },
   "outputs": [
    {
     "name": "stdout",
     "output_type": "stream",
     "text": [
      "knn score =  0.943579766536965\n",
      "knn resultado =  [0 0 0 ... 0 0 1]\n",
      "acurácia =  0.943579766536965\n",
      "Sensibilidade =  0.05172413793103448\n",
      "precisão =  0.5\n"
     ]
    },
    {
     "data": {
      "image/png": "[encoded data removed]",
      "text/plain": [
       "<Figure size 432x288 with 2 Axes>"
      ]
     },
     "metadata": {
      "needs_background": "light"
     },
     "output_type": "display_data"
    }
   ],
   "source": [
    "knn = KNeighborsClassifier(n_neighbors=4, algorithm=\"auto\")\n",
    "knn.fit(X_train, y_train)\n",
    "resultKNN = knn.predict(X_test)\n",
    "\n",
    "print(\"knn score = \", knc.score(X_test, y_test))\n",
    "print(\"knn resultado = \", resultado)\n",
    "\n",
    "print(\"acurácia = \", accuracy_score(y_test, resultado))\n",
    "print(\"Sensibilidade = \", recall_score(y_test, resultado))\n",
    "print(\"precisão = \", precision_score(y_test, resultado))\n",
    "\n",
    "\n",
    "matrizConfusao = confusion_matrix(y_test, resultKNN)\n",
    "cs = confusion_matrix(y_test, resultado)\n",
    "disp = ConfusionMatrixDisplay(cs)\n",
    "disp.plot(cmap=plt.cm.Blues)\n",
    "plt.show()"
   ]
  },
  {
   "cell_type": "markdown",
   "metadata": {
    "pycharm": {
     "name": "#%% md\n"
    }
   },
   "source": [
    "## k = 5"
   ]
  },
  {
   "cell_type": "code",
   "execution_count": 29,
   "metadata": {
    "pycharm": {
     "name": "#%%\n"
    }
   },
   "outputs": [
    {
     "name": "stdout",
     "output_type": "stream",
     "text": [
      "knn score =  0.943579766536965\n",
      "knn resultado =  [0 0 0 ... 0 0 1]\n",
      "acurácia =  0.943579766536965\n",
      "Sensibilidade =  0.05172413793103448\n",
      "precisão =  0.5\n"
     ]
    },
    {
     "data": {
      "image/png": "[encoded data removed]",
      "text/plain": [
       "<Figure size 432x288 with 2 Axes>"
      ]
     },
     "metadata": {
      "needs_background": "light"
     },
     "output_type": "display_data"
    }
   ],
   "source": [
    "knn = KNeighborsClassifier(n_neighbors=5, algorithm=\"auto\")\n",
    "knn.fit(X_train, y_train)\n",
    "resultKNN = knn.predict(X_test)\n",
    "\n",
    "print(\"knn score = \", knc.score(X_test, y_test))\n",
    "print(\"knn resultado = \", resultado)\n",
    "\n",
    "print(\"acurácia = \", accuracy_score(y_test, resultado))\n",
    "print(\"Sensibilidade = \", recall_score(y_test, resultado))\n",
    "print(\"precisão = \", precision_score(y_test, resultado))\n",
    "\n",
    "\n",
    "matrizConfusao = confusion_matrix(y_test, resultKNN)\n",
    "cs = confusion_matrix(y_test, resultado)\n",
    "disp = ConfusionMatrixDisplay(cs)\n",
    "disp.plot(cmap=plt.cm.Blues)\n",
    "plt.show()"
   ]
  },
  {
   "cell_type": "markdown",
   "metadata": {
    "pycharm": {
     "name": "#%% md\n"
    }
   },
   "source": [
    "## Análise\n",
    "<b>É possível ver que para todos os k escolhidos embora a métrica de acurácia tenha sido alta, a métrica de sensibilidade e precisão estão bem baixas.\n",
    "A sensibilidade demonstra quantas previsões verdadeiras estavam corretas, e a precisão mostra quantas previsões estavam corretas. Analisando os dados é possível ver que o banco de dados está enviesado para a classe de 'não hove derrame'.\n",
    "É possível ver na tabela de confusão, que o número de falso positivo é muito alto, algo que não é desejável no caso de derrame.\n",
    "É necessário fazer um balanceamento de dados, através da técnica de 'under sampling'.<\\b>\n"
   ]
  },
  {
   "cell_type": "code",
   "execution_count": 42,
   "metadata": {
    "pycharm": {
     "name": "#%%\n"
    }
   },
   "outputs": [
    {
     "name": "stdout",
     "output_type": "stream",
     "text": [
      "knn score =  0.6574074074074074\n",
      "knn resultado =  [0 1 0 0 1 0 0 1 0 1 1 0 1 0 0 1 0 1 1 1 1 1 1 0 1 0 1 0 1 0 0 1 0 1 1 1 0\n",
      " 1 0 0 0 0 1 1 0 1 0 0 0 0 1 0 0 0 0 0 0 1 0 0 0 0 1 0 0 0 1 0 0 0 0 0 0 0\n",
      " 0 0 0 1 1 0 1 0 0 0 0 1 0 0 0 0 0 1 1 1 0 0 1 1 0 1 0 0 0 1 1 1 1 0]\n",
      "acurácia =  0.7037037037037037\n",
      "Sensibilidade =  0.5925925925925926\n",
      "precisão =  0.7619047619047619\n"
     ]
    },
    {
     "data": {
      "image/png": "[encoded data removed]",
      "text/plain": [
       "<Figure size 432x288 with 2 Axes>"
      ]
     },
     "metadata": {
      "needs_background": "light"
     },
     "output_type": "display_data"
    }
   ],
   "source": [
    "from imblearn.under_sampling import NearMiss\n",
    "nm1 = NearMiss(version=1)\n",
    "\n",
    "X_resampled_nm1, y_resampled_nm1 = nm1.fit_resample(X, y)\n",
    "\n",
    "Xr_train, Xr_test, yr_train, yr_test = train_test_split(X_resampled_nm1, y_resampled_nm1, test_size=0.3, random_state=10)\n",
    "\n",
    "\n",
    "\n",
    "knn = KNeighborsClassifier(n_neighbors=1, algorithm=\"auto\") #k vizinhos mais próximos = n_neighbors\n",
    "knn.fit(Xr_train, yr_train)\n",
    "resultKNN = knn.predict(Xr_test)\n",
    "\n",
    "\n",
    "print(\"knn score = \", knc.score(Xr_test, yr_test))\n",
    "print(\"knn resultado = \", resultKNN)\n",
    "\n",
    "print(\"acurácia = \", accuracy_score(yr_test, resultKNN))\n",
    "print(\"Sensibilidade = \", recall_score(yr_test, resultKNN))\n",
    "print(\"precisão = \", precision_score(yr_test, resultKNN))\n",
    "\n",
    "\n",
    "matrizConfusao = confusion_matrix(yr_test, resultKNN)\n",
    "cs = confusion_matrix(yr_test, resultKNN)\n",
    "disp = ConfusionMatrixDisplay(cs)\n",
    "disp.plot(cmap=plt.cm.Blues)\n",
    "plt.show()"
   ]
  },
  {
   "cell_type": "markdown",
   "metadata": {
    "pycharm": {
     "name": "#%% md\n"
    }
   },
   "source": [
    "<b>Embora a acurácia diminuiu bastante, a precisão e sensibilidade aumentaram muito. Implementando a validação cruzado é possível chegar em resultados melhores.\n",
    "É bem visível que o número de falsos positivos diminuiu e o número de verdadeiros positivos aumentou, algo que é desejável. Embora o modelo tenha uma acurácia menor, ela está errando menos nos casos que houve derrame, o desejável nesse caso.</b>"
   ]
  },
  {
   "cell_type": "code",
   "execution_count": 60,
   "metadata": {
    "pycharm": {
     "name": "#%%\n"
    }
   },
   "outputs": [],
   "source": [
    "def media(x):\n",
    "    __a = 0\n",
    "    for el in x:\n",
    "        __a += el\n",
    "    return __a / len(x)\n"
   ]
  },
  {
   "cell_type": "code",
   "execution_count": 63,
   "metadata": {
    "pycharm": {
     "name": "#%%\n"
    }
   },
   "outputs": [
    {
     "name": "stdout",
     "output_type": "stream",
     "text": [
      "0.7055555555555555\n",
      "0.6\n",
      "0.7601012192316541\n"
     ]
    }
   ],
   "source": [
    "# Cross Validation\n",
    "knc = KNeighborsClassifier()\n",
    "kns = StratifiedKFold(n_splits=5, shuffle=True, random_state=10)\n",
    "\n",
    "\n",
    "kfold  = KFold(n_splits=5, shuffle=True)\n",
    "result = cross_val_score(knc, X_resampled_nm1, y_resampled_nm1, cv = kns)\n",
    "\n",
    "a = kns.split(X_resampled_nm1, y_resampled_nm1)\n",
    "\n",
    "resultado = []\n",
    "acuracia = []\n",
    "sensibilidade = []\n",
    "precisao = []\n",
    "\n",
    "for train_index, test_index in a:\n",
    "    Xr_train, Xr_test = X_resampled_nm1.iloc[train_index], X_resampled_nm1.iloc[test_index]\n",
    "    yr_train, yr_test = y_resampled_nm1.iloc[train_index], y_resampled_nm1.iloc[test_index]\n",
    "\n",
    "    knn.fit(Xr_train, yr_train)\n",
    "    resultado.append(knn.predict(Xr_test))\n",
    "    acuracia.append(accuracy_score(yr_test, knn.predict(Xr_test)))\n",
    "    sensibilidade.append(recall_score(yr_test, knn.predict(Xr_test)))\n",
    "    precisao.append(precision_score(yr_test, knn.predict(Xr_test)))\n",
    "\n",
    "\n",
    "print(media(acuracia))\n",
    "print(media(sensibilidade))\n",
    "print(media(precisao))\n"
   ]
  },
  {
   "cell_type": "markdown",
   "metadata": {
    "pycharm": {
     "name": "#%% md\n"
    }
   },
   "source": [
    "![4ª Questão](Questões/Q4.png)\n",
    "\n",
    "O banco de dados aparenta estar desbalanceado. Para melhorar os resultados é necessário balancear o banco de dados, para isso, na criação das amostras de treino e teste basta utilizar o método de amostragem estratificada. Usar também a técnica 'NearMiss' de 'under sampling' para melhores resultado.\n",
    "Para chegar aos resultados das métricas é necessário reduzir a quantidade de classes da matriz confusão para 2."
   ]
  },
  {
   "cell_type": "markdown",
   "metadata": {
    "pycharm": {
     "name": "#%% md\n"
    }
   },
   "source": [
    "\n",
    "![matriz confusão](Questões/matriz_confusao.png)\n",
    "\n",
    "Nos dados passados os dados verdadeiros são as colunas e os dados preditos são as linhas.\n",
    "\n",
    "Para fazer uma matriz de confusão para as <b>maças</b> teremos que:\n",
    "\n",
    "[PV] os valores positivo verdadeiro são : 70 (Previu que era maça e realmente era maça )\n",
    "\n",
    "[PF] valores positivo falsos são        : 30 (Previu que era maça, mas não era maça )\n",
    "\n",
    "[NV] os valores negativo verdadeiro são : 1122 (Previu que não era maça e realmente não era maça )\n",
    "\n",
    "[NF] os valores negativo falso são      : 20 (Previu que não era maça, mas era maça)\n",
    "\n",
    "\n",
    "Para fazer uma matriz de confusão para as <b>laranjas</b> teremos que:\n",
    "\n",
    "[PV] os valores positivo verdadeiro são : 67\n",
    "\n",
    "[PF] os valores positivo falsos são     : 33\n",
    "\n",
    "[NV] os valores negativo verdadeiro são : 1125\n",
    "\n",
    "[NF] os valores negativo falso são      : 54\n",
    "\n",
    "Para fazer uma matriz de confusão para os <b>limões</b> teremos que:\n",
    "\n",
    "[PV] os valores positivo verdadeiro são : 55\n",
    "\n",
    "[PF] os valores positivo falsos são     : 45\n",
    "\n",
    "[NV] os valores negativo verdadeiro são : 1137\n",
    "\n",
    "[NF] os valores negativo falso são      : 10\n",
    "\n",
    "Para fazer uma matriz de confusão para as <b>mangas</b> teremos que:\n",
    "\n",
    "[PV] os valores positivo verdadeiro são : 1000\n",
    "\n",
    "[PF] os valores positivo falsos são     : 11\n",
    "\n",
    "[NV] os valores negativo verdadeiro são : 192\n",
    "\n",
    "[NF] os valores negativo falso são      : 35\n",
    "\n",
    "![Matrizes Confusão Binário](Questões/matrizes_confusão_binário.png)"
   ]
  },
  {
   "cell_type": "markdown",
   "metadata": {
    "pycharm": {
     "name": "#%% md\n"
    }
   },
   "source": [
    "## Medidas das classes isoladas\n",
    "### - Maça\n",
    "#### Sensibilidade:\n",
    "$ sensibilidade = \\frac{PV}{PV + NF} = $\n",
    "$ \\frac{70}{70 + 20} = 0,777 $\n",
    "\n",
    "#### Especificidade:\n",
    "$ especifidade = \\frac{NV}{NV + PF} = $\n",
    "$ \\frac{1122}{1122 + 30} = 0,973 $\n",
    "\n",
    "#### Precisão:\n",
    "$ precisão = \\frac{PV}{PV + PF} = $\n",
    "$ \\frac{70}{70 + 30} = 0,700 $\n",
    "\n",
    "#### Medida F1:\n",
    "$ F1 = 2 * \\frac{precisão * sensibilidade}{precisão + sensibilidade} = $\n",
    "$2 * \\frac{0,959 * 0,777}{0,959 +0,777} = 0,858$\n",
    "\n",
    "#### Acurácia:\n",
    "$ acuracia = \\frac{VP + VN}{VP + VN + PF + PV} = $\n",
    "$ \\frac{70 + 1122}{70 + 20 + 30 + 1122} = 0,959 $\n",
    "\n",
    "#### Coeficiente de Matthews:\n",
    "$ MCC = \\frac{VP * VN - FP * FN}{\\sqrt{(VP+FP)*(VP+FN)*(VN+FP)*(NV+FN)}} = $\n",
    "$ \\frac{70 * 1122 - 30 * 20}{\\sqrt{(70+30)*(70+20)*(1122+30)*(1122+20)}} = 0,716 $\n",
    "\n",
    "#### ROC AUC:\n",
    "AUC = 0,875\n",
    "\n",
    "___\n",
    "### - Laranja\n",
    "#### Sensibilidade:\n",
    "$ sensibilidade = \\frac{PV}{PV + NF} = $\n",
    "$ \\frac{67}{67 + 54} = 0,553 $\n",
    "\n",
    "#### Especificidade:\n",
    "$ especifidade = \\frac{NV}{NV + PF} = $\n",
    "$ \\frac{1125}{1125 + 33} = 0,971 $\n",
    "\n",
    "#### Precisão:\n",
    "$ precisão = \\frac{PV}{PV + PF} = $\n",
    "$ \\frac{67}{67 + 33} = 0,670 $\n",
    "\n",
    "#### Medida F1:\n",
    "$ F1 = 2 * \\frac{precisão * sensibilidade}{precisão + sensibilidade} = $\n",
    "$2 * \\frac{0,670 * 0,553}{0,670 + 0,553} = 0,605$\n",
    "\n",
    "#### Acurácia:\n",
    "$ acuracia = \\frac{VP + VN}{VP + VN + PF + PV} = $\n",
    "$ \\frac{67 + 1125}{67 + 54 + 33 + 1125} = 0,931 $\n",
    "\n",
    "#### Coeficiente de Matthews:\n",
    "$ MCC = \\frac{VP * VN - FP * FN}{\\sqrt{(VP+FP)*(VP+FN)*(VN+FP)*(NV+FN)}} = $\n",
    "$ MCC = \\frac{67 * 1125 - 33 * 54}{\\sqrt{(67+33)*(67+54)*(1125+33)*(1125+54)}} = 0,572 $\n",
    "\n",
    "#### ROC AUC:\n",
    "AUC = 0,762\n",
    "\n",
    "___\n",
    "### - Limão\n",
    "#### Sensibilidade:\n",
    "$ sensibilidade = \\frac{PV}{PV + NF} = $\n",
    "$ \\frac{55}{55 + 10} = 0,846 $\n",
    "\n",
    "#### Especificidade:\n",
    "$ especifidade = \\frac{NV}{NV + PF} = $\n",
    "$ \\frac{1137}{1137 + 45} = 0,961 $\n",
    "\n",
    "#### Precisão:\n",
    "$ precisão = \\frac{PV}{PV + PF} = $\n",
    "$ \\frac{55}{55 + 45} = 0,550 $\n",
    "\n",
    "#### Medida F1:\n",
    "$ F1 = 2 * \\frac{precisão * sensibilidade}{precisão + sensibilidade} = $\n",
    "$2 * \\frac{0,550 * 0,846}{0,550 +0,846} = 0,666$\n",
    "\n",
    "#### Acurácia:\n",
    "$ acuracia = \\frac{VP + VN}{VP + VN + PF + PV} = $\n",
    "$ \\frac{55 + 1137}{55 + 10 + 45 + 1137} = 0,955 $\n",
    "\n",
    "#### Coeficiente de Matthews:\n",
    "$ MCC = \\frac{VP * VN - FP * FN}{\\sqrt{(VP+FP)*(VP+FN)*(VN+FP)*(NV+FN)}} = $\n",
    "$ \\frac{55 * 1137 - 45 * 10}{\\sqrt{(55+45)*(55+10)*(1137+45)*(1137+10)}} = 0,661 $\n",
    "\n",
    "#### ROC AUC:\n",
    "AUC = 0.904\n",
    "\n",
    "___\n",
    "### - Manga\n",
    "#### Sensibilidade:\n",
    "$ sensibilidade = \\frac{PV}{PV + NF} = $\n",
    "$ \\frac{1000}{1000 + 35} = 0,966 $\n",
    "\n",
    "#### Especificidade:\n",
    "$ especifidade = \\frac{NV}{NV + PF} = $\n",
    "$ \\frac{192}{192 + 11} = 0,945 $\n",
    "\n",
    "#### Precisão:\n",
    "$ precisão = \\frac{PV}{PV + PF} = $\n",
    "$ \\frac{1000}{1000 + 11} = 0,989 $\n",
    "\n",
    "#### Medida F1:\n",
    "$ F1 = 2 * \\frac{precisão * sensibilidade}{precisão + sensibilidade} = $\n",
    "$ 2 * \\frac{0,989 * 0,966}{0,989 +0,966} = 0,9744 $\n",
    "\n",
    "#### Acurácia:\n",
    "$ acuracia = \\frac{VP + VN}{VP + VN + PF + PV} = $\n",
    "$ \\frac{1000 + 192}{1000 + 35 + 11 + 192} = 0,962 $\n",
    "\n",
    "#### Coeficiente de Matthews:\n",
    "$ MCC = \\frac{VP * VN - FP * FN}{\\sqrt{(VP+FP)*(VP+FN)*(VN+FP)*(NV+FN)}} = $\n",
    "$ MCC = \\frac{1000 * 192 - 11 * 35}{\\sqrt{(1000+11)*(1000+35)*(192+11)*(192+35)}} = 0,872 $\n",
    "\n",
    "#### ROC AUC:\n",
    "AUC = 0.955"
   ]
  },
  {
   "cell_type": "markdown",
   "metadata": {
    "pycharm": {
     "name": "#%% md\n"
    }
   },
   "source": [
    "ou transformar a matriz para que:\n",
    "- Os Positivos Verdadeiros (VP) e Negativos Verdadeiros (NV) Sejam a Diagonal principal da matriz\n",
    "- Os Positivo Falso (PF) ficarão na última linha da tabela enquanto os Negativo falsos (NF) irão para a última coluna a direita\n",
    "![Matriz de Confusão Transformada](Questões/matriz_confusao_transformada.png)"
   ]
  },
  {
   "cell_type": "markdown",
   "metadata": {
    "pycharm": {
     "name": "#%% md\n"
    }
   },
   "source": [
    "![Questão Extra](Questões/EXTRA.png)\n",
    "## Pergunta:\n",
    "Como os dados da realidade podem trazer preconceitos para o mundo virtual das Inteligências Artificiais?\n",
    "\n",
    "## Resposta:\n",
    "É possível enviesar o resultado das inteligências artificias passando dados desbalanceados a elas. Então, por exemplo, uma I.A. para identificar humanos, pode ser racista se o banco de dados usado para treina-la tiver uma maioria de pessoas de cor branca, do que outras etnias.\n",
    "É dever dos pesquisadores e programadores responsáveis pelo banco de dados e pelas I.A. assegurar que os bancos de dados não estejam desbalanceados de certa forma que não passe os preeconceitos do mundo real para a I.A."
   ]
  },
  {
   "cell_type": "markdown",
   "metadata": {
    "pycharm": {
     "name": "#%% md\n"
    }
   },
   "source": [
    "# Anotações\n",
    "## Acurácia:\n",
    "A acurácia é a porcentagem das previsões corretas. Isto é as previsões que a maquina fez e estão corretas. Para classificações binárias a acurácia pode ser calculada como a razão entre as predições corretas e o total de predições.\n",
    "$ acuracia = \\frac{predições corretas}{total de predições} = \\frac{Verdadeiro Positivo(VP) + Verdadeiro Negativo(VN)}{Total} $\n",
    "\n",
    "<b> A _acurácia_ não é uma boa métrica quando você está trabalhando com banco de dados desbalanceados. Isto é, quando o banco de dados tem uma grande disparidade na quantidade de elementos de cada tipo.</b>\n",
    "\n",
    "## Sensibilidade (Recall)\n",
    "É a proporção de previsões positivas corretas.\n",
    "$ sensibilidade = \\frac{VerdadeiroPositivo (VP)}{VerdadeiroPositivo (VP) + Falso Positivo (FP)} $\n",
    "\n",
    "## Precisão\n",
    "O objetivo da precisão é mostrar quanto das previsos verdadeira positiva estavam corretas. Uma precisão de 1 mostra que não foi previsto um falso positivo.\n",
    "$ precisao = \\frac{VerdadeiroPositivo (VP)}{VerdadeiroPositivo (VP) + Falso Negativo (FN)} $\n",
    "\n",
    "## Coeficiente de Matthews\n",
    "É usado na aprendizagem de máquina como uma medida da qualidade de binário Coeficiente de correlação de Matthews. O coeficiente leva em consideração verdadeiros e falsos positivos e negativos e é geralmente considerado uma medida equilibrada que pode ser usada mesmo se as classes forem de tamanhos muito diferentes. Coeficiente de correlação de Matthews. O MCC é, em essência, um coeficiente de correlação entre as classificações binárias observadas e previstas; ele retorna um valor entre -1 e +1. Um coeficiente de +1 representa uma predição perfeita, 0 não melhor do que a predição aleatória e -1 indica discordância total entre predição e observação. Coeficiente de correlação de Matthews.\n",
    "\n",
    "$ MCC = \\frac{VP * VN - FP * FN}{\\sqrt{(VP+FP)*(VP+FN)*(VN+FP)*(NV+FN)}}$\n",
    "\n",
    "# Fonte/Referência para mais estudos\n",
    "- Livro Machine Learning Guia de Referência Rápida - Matt Harrison\n",
    "- Livro Data Science Do Zero - Joel Grus\n",
    "- Site https://developers.google.com/machine-learning/crash-course/classification\n",
    "- Site https://developers.google.com/machine-learning/crash-course/classification/roc-and-auc\n",
    "- Site https://scikit-learn.org\n",
    "- Site https://tiago.blog.br/precisao-revocacao-acuracia-e-medida-f/"
   ]
  },
  {
   "cell_type": "code",
   "execution_count": null,
   "metadata": {
    "pycharm": {
     "name": "#%%\n"
    }
   },
   "outputs": [],
   "source": [
    "y_maca_true = []\n",
    "y_maca_pred = []\n",
    "y_laranja_true = []\n",
    "y_laranja_pred = []\n",
    "y_limao_true = []\n",
    "y_limao_pred = []\n",
    "y_manga_true = []\n",
    "y_manga_pred = []\n",
    "\n",
    "# ------- maça ------------\n",
    "x = 0\n",
    "while x < 70: # Verdadeiro Positivo\n",
    "    y_maca_true.append(1)\n",
    "    y_maca_pred.append(1)\n",
    "    x += 1\n",
    "\n",
    "x = 0\n",
    "while x < 20: # Falso negativo\n",
    "    y_maca_true.append(1)\n",
    "    y_maca_pred.append(0)\n",
    "    x += 1\n",
    "\n",
    "x = 0\n",
    "while x < 30: # False Positivo\n",
    "    y_maca_true.append(0)\n",
    "    y_maca_pred.append(1)\n",
    "    x += 1\n",
    "\n",
    "x = 0\n",
    "while x < 1122: # Verdadeiro negativo\n",
    "    y_maca_true.append(0)\n",
    "    y_maca_pred.append(0)\n",
    "    x += 1\n",
    "print(\"maça\")\n",
    "print(len(y_maca_true))\n",
    "print(len(y_maca_pred))\n",
    "\n",
    "# ------- laranja ------------\n",
    "x = 0\n",
    "while x < 67: # Verdadeiro Positivo\n",
    "    y_laranja_true.append(1)\n",
    "    y_laranja_pred.append(1)\n",
    "    x += 1\n",
    "\n",
    "x = 0\n",
    "while x < 54: # Falso negativo\n",
    "    y_laranja_true.append(1)\n",
    "    y_laranja_pred.append(0)\n",
    "    x += 1\n",
    "\n",
    "x = 0\n",
    "while x < 33: # False Positivo\n",
    "    y_laranja_true.append(0)\n",
    "    y_laranja_pred.append(1)\n",
    "    x += 1\n",
    "\n",
    "x = 0\n",
    "while x < 1125: # Verdadeiro negativo\n",
    "    y_laranja_true.append(0)\n",
    "    y_laranja_pred.append(0)\n",
    "    x += 1\n",
    "\n",
    "print(\"laranja\")\n",
    "print(len(y_maca_true))\n",
    "print(len(y_maca_pred))\n",
    "\n",
    "# ------- limão ------------\n",
    "x = 0\n",
    "while x < 55: # Verdadeiro Positivo\n",
    "    y_limao_true.append(1)\n",
    "    y_limao_pred.append(1)\n",
    "    x += 1\n",
    "\n",
    "x = 0\n",
    "while x < 10: # Falso negativo\n",
    "    y_limao_true.append(1)\n",
    "    y_limao_pred.append(0)\n",
    "    x += 1\n",
    "\n",
    "x = 0\n",
    "while x < 45: # False Positivo\n",
    "    y_limao_true.append(0)\n",
    "    y_limao_pred.append(1)\n",
    "    x += 1\n",
    "\n",
    "x = 0\n",
    "while x < 1137: # Verdadeiro negativo\n",
    "    y_limao_true.append(0)\n",
    "    y_limao_pred.append(0)\n",
    "    x += 1\n",
    "\n",
    "print(\"limão\")\n",
    "print(len(y_maca_true))\n",
    "print(len(y_maca_pred))\n",
    "\n",
    "# ------- manga ------------\n",
    "x = 0\n",
    "while x < 1000: # Verdadeiro Positivo\n",
    "    y_manga_true.append(1)\n",
    "    y_manga_pred.append(1)\n",
    "    x += 1\n",
    "\n",
    "x = 0\n",
    "while x < 35: # Falso negativo\n",
    "    y_manga_true.append(1)\n",
    "    y_manga_pred.append(0)\n",
    "    x += 1\n",
    "\n",
    "x = 0\n",
    "while x < 11: # False Positivo\n",
    "    y_manga_true.append(0)\n",
    "    y_manga_pred.append(1)\n",
    "    x += 1\n",
    "\n",
    "x = 0\n",
    "while x < 192: # Verdadeiro negativo\n",
    "    y_manga_true.append(0)\n",
    "    y_manga_pred.append(0)\n",
    "    x += 1\n",
    "\n",
    "print(\"manga\")\n",
    "print(len(y_maca_true))\n",
    "print(len(y_maca_pred))"
   ]
  },
  {
   "cell_type": "code",
   "execution_count": null,
   "metadata": {
    "pycharm": {
     "name": "#%%\n"
    }
   },
   "outputs": [],
   "source": [
    "from sklearn.metrics import confusion_matrix, ConfusionMatrixDisplay\n",
    "import matplotlib\n",
    "matplotlib.use('module://matplotlib_inline.backend_inline')\n",
    "import matplotlib.pyplot as plt\n",
    "from sklearn.metrics import accuracy_score, recall_score, precision_score,f1_score, roc_auc_score"
   ]
  },
  {
   "cell_type": "code",
   "execution_count": null,
   "metadata": {
    "pycharm": {
     "name": "#%%\n"
    }
   },
   "outputs": [],
   "source": [
    "print(\"Para maça\")\n",
    "cs = confusion_matrix(y_maca_true, y_maca_pred)\n",
    "disp = ConfusionMatrixDisplay(cs)\n",
    "disp.plot(cmap=plt.cm.Blues)\n",
    "plt.show()\n"
   ]
  },
  {
   "cell_type": "code",
   "execution_count": null,
   "metadata": {
    "pycharm": {
     "name": "#%%\n"
    }
   },
   "outputs": [],
   "source": [
    "print(\"Para laranja\")\n",
    "cs = confusion_matrix(y_laranja_true, y_laranja_pred)\n",
    "disp = ConfusionMatrixDisplay(cs)\n",
    "disp.plot(cmap=plt.cm.Blues)\n",
    "plt.show()"
   ]
  },
  {
   "cell_type": "code",
   "execution_count": null,
   "metadata": {
    "pycharm": {
     "name": "#%%\n"
    }
   },
   "outputs": [],
   "source": [
    "print(\"Para limão\")\n",
    "cs = confusion_matrix(y_limao_true, y_limao_pred)\n",
    "disp = ConfusionMatrixDisplay(cs)\n",
    "disp.plot(cmap=plt.cm.Blues)\n",
    "plt.show()"
   ]
  },
  {
   "cell_type": "code",
   "execution_count": null,
   "metadata": {
    "pycharm": {
     "name": "#%%\n"
    }
   },
   "outputs": [],
   "source": [
    "print(\"Para manga\")\n",
    "cs = confusion_matrix(y_manga_true, y_manga_pred)\n",
    "disp = ConfusionMatrixDisplay(cs)\n",
    "disp.plot(cmap=plt.cm.Blues)\n",
    "disp.figure_.set_label(\"Manga\")\n",
    "\n",
    "plt.show()"
   ]
  },
  {
   "cell_type": "code",
   "execution_count": null,
   "metadata": {
    "pycharm": {
     "name": "#%%\n"
    }
   },
   "outputs": [],
   "source": [
    "print(\"Para maça\")\n",
    "print(\"acurácia = \", accuracy_score(y_maca_true, y_maca_pred))\n",
    "print(\"Sensibilidade = \", recall_score(y_maca_true, y_maca_pred))\n",
    "print(\"precisão = \", precision_score(y_maca_true, y_maca_pred))\n",
    "print(\"F1 = \", f1_score(y_maca_true, y_maca_pred))\n",
    "print(\"roc auc = \", roc_auc_score(y_maca_true, y_maca_pred))"
   ]
  },
  {
   "cell_type": "code",
   "execution_count": null,
   "metadata": {
    "pycharm": {
     "name": "#%%\n"
    }
   },
   "outputs": [],
   "source": [
    "print(\"Para Laranja\")\n",
    "print(\"acurácia = \", accuracy_score(y_laranja_true, y_laranja_pred))\n",
    "print(\"Sensibilidade = \", recall_score(y_laranja_true, y_laranja_pred))\n",
    "print(\"precisão = \", precision_score(y_laranja_true, y_laranja_pred))\n",
    "print(\"F1 = \", f1_score(y_laranja_true, y_laranja_pred))\n",
    "print(\"roc auc = \", roc_auc_score(y_laranja_true, y_laranja_pred))"
   ]
  },
  {
   "cell_type": "code",
   "execution_count": null,
   "metadata": {
    "pycharm": {
     "name": "#%%\n"
    }
   },
   "outputs": [],
   "source": [
    "print(\"Para Limão\")\n",
    "print(\"acurácia = \", accuracy_score(y_limao_true, y_limao_pred))\n",
    "print(\"Sensibilidade = \", recall_score(y_limao_true, y_limao_pred))\n",
    "print(\"precisão = \", precision_score(y_limao_true, y_limao_pred))\n",
    "print(\"F1 = \", f1_score(y_limao_true, y_limao_pred))\n",
    "print(\"roc auc = \", roc_auc_score(y_limao_true, y_limao_pred))"
   ]
  },
  {
   "cell_type": "code",
   "execution_count": null,
   "metadata": {
    "pycharm": {
     "name": "#%%\n"
    }
   },
   "outputs": [],
   "source": [
    "print(\"Para Manga\")\n",
    "print(\"acurácia = \", accuracy_score(y_manga_true, y_manga_pred))\n",
    "print(\"Sensibilidade = \", recall_score(y_manga_true, y_manga_pred))\n",
    "print(\"precisão = \", precision_score(y_manga_true, y_manga_pred))\n",
    "print(\"F1 = \", f1_score(y_manga_true, y_manga_pred))\n",
    "print(\"roc auc = \", roc_auc_score(y_manga_true, y_manga_pred))"
   ]
  },
  {
   "cell_type": "markdown",
   "metadata": {
    "pycharm": {
     "name": "#%% md\n"
    }
   },
   "source": []
  }
 ],
 "metadata": {
  "kernelspec": {
   "display_name": "Python 3 (ipykernel)",
   "language": "python",
   "name": "python3"
  },
  "language_info": {
   "codemirror_mode": {
    "name": "ipython",
    "version": 3
   },
   "file_extension": ".py",
   "mimetype": "text/x-python",
   "name": "python",
   "nbconvert_exporter": "python",
   "pygments_lexer": "ipython3",
   "version": "3.9.7"
  }
 },
 "nbformat": 4,
 "nbformat_minor": 1
}