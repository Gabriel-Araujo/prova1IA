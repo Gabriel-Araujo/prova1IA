{
 "cells": [
  {
   "cell_type": "markdown",
   "metadata": {
    "collapsed": true,
    "pycharm": {
     "name": "#%% md\n"
    }
   },
   "source": [
    "# Resolução da 1ª prova de Inteligência Artificial."
   ]
  },
  {
   "cell_type": "markdown",
   "source": [
    "![1ª Questão](Questões/Q1.png)"
   ],
   "metadata": {
    "collapsed": false
   }
  },
  {
   "cell_type": "markdown",
   "source": [
    "### Agente comentarista de Jogo:\n",
    "\n",
    "##### Medida de desempenho:\n",
    "Quantidades de pessoas assistindo a transmissão.\n",
    "##### Ambiente:\n",
    "Transmissão por rádio, TV ou internet de um jogo.\n",
    "##### Atuadores:\n",
    "Microfone para simular a voz de um narrador.\n",
    "##### Sensores:\n",
    "Câmera para ver o jogo.\n",
    "\n",
    "### Agente sugestor de vinho:\n",
    "\n",
    "##### Medida de desempenho:\n",
    "Feedback das pessoas que receberam a recomendação do vinho. Sendo possível dizer se gostou ou não do vinho sugerido (Sim ou não, uma resposta binária).\n",
    "##### Ambiente:\n",
    "Uma Adega de vinhos\n",
    "##### Atuadores:\n",
    "Uma tela para exibir o nome do vinho sugerido\n",
    "##### Sensores:\n",
    "Sensores degustativos para que a IA sejá capaz de obter informações sobre acidez, quantidade de alcool, aroma e sabor.\n",
    "Sensores termicos para poder determinar se o vinho está na temperatura certa.\n",
    "\n",
    "### Agente treinador de time:\n",
    "\n",
    "##### Medida de desempenho:\n",
    "Desempenho do time em jogos, isto é o placar final do jogo.\n",
    "##### Ambiente:\n",
    "Times de basquetes, futebol, futebol americano, etc.\n",
    "##### Atuadores:\n",
    "Tela para exibir as informações para os jogadores e treinador.\n",
    "##### Sensores:\n",
    "Sensores termicos para ver a temperatura do corpo dos jogadores, sensores de CO2 no sangue, Sensores de velocidade para ver a velocidade em que os jogadores estão correndo, sensor que placar do jogo."
   ],
   "metadata": {
    "collapsed": false
   }
  },
  {
   "cell_type": "code",
   "execution_count": null,
   "outputs": [],
   "source": [],
   "metadata": {
    "collapsed": false,
    "pycharm": {
     "name": "#%%\n"
    }
   }
  }
 ],
 "metadata": {
  "kernelspec": {
   "display_name": "Python 3",
   "language": "python",
   "name": "python3"
  },
  "language_info": {
   "codemirror_mode": {
    "name": "ipython",
    "version": 2
   },
   "file_extension": ".py",
   "mimetype": "text/x-python",
   "name": "python",
   "nbconvert_exporter": "python",
   "pygments_lexer": "ipython2",
   "version": "2.7.6"
  }
 },
 "nbformat": 4,
 "nbformat_minor": 0
}