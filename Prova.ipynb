{
 "cells": [
  {
   "cell_type": "markdown",
   "metadata": {
    "collapsed": true,
    "pycharm": {
     "name": "#%% md\n"
    }
   },
   "source": [
    "# Resolução da 1.ª prova de Inteligência Artificial."
   ]
  },
  {
   "cell_type": "markdown",
   "source": [
    "![1ª Questão](Questões/Q1.png)"
   ],
   "metadata": {
    "collapsed": false,
    "pycharm": {
     "name": "#%% md\n"
    }
   }
  },
  {
   "cell_type": "markdown",
   "source": [
    "### Agente comentarista de Jogo:\n",
    "\n",
    "#### Medida de desempenho:\n",
    "Quantidades de pessoas assistindo à transmissão.\n",
    "#### Ambiente:\n",
    "Transmissão por rádio, TV ou _internet_ de um jogo.\n",
    "#### Atuadores:\n",
    "Microfone para simular a voz de um narrador.\n",
    "#### Sensores:\n",
    "Câmera para ver o jogo.\n",
    "\n",
    "### Agente sugestor de vinho:\n",
    "\n",
    "#### Medida de desempenho:\n",
    "_Feedback_ das pessoas que receberam a recomendação do vinho. Sendo possível dizer se gostou ou não do vinho sugerido (Sim ou não, uma resposta binária).\n",
    "#### Ambiente:\n",
    "Uma Adega de vinhos\n",
    "#### Atuadores:\n",
    "Uma tela para exibir o nome do vinho sugerido\n",
    "#### Sensores:\n",
    "Sensores degustativo para que a IA consiga obter informações sobre acidez, quantidade de alcohol, aroma e sabor.\n",
    "Sensores térmicos para poder determinar se o vinho está na temperatura certa.\n",
    "\n",
    "### Agente treinador de time:\n",
    "\n",
    "#### Medida de desempenho:\n",
    "Desempenho do time em jogos, isto é o placar final do jogo.\n",
    "#### Ambiente:\n",
    "Times de basquetes, futebol, futebol americano, etc.\n",
    "#### Atuadores:\n",
    "Tela para exibir as informações para os jogadores e treinador.\n",
    "#### Sensores:\n",
    "Sensores térmicos para ver a temperatura do corpo dos jogadores, sensores de CO₂ no sangue, sensores de velocidade para ver a velocidade em que os jogadores estão correndo, sensor que placar do jogo."
   ],
   "metadata": {
    "collapsed": false,
    "pycharm": {
     "name": "#%% md\n"
    }
   }
  },
  {
   "cell_type": "markdown",
   "source": [
    "![2ª Questão](Questões/Q2.png)"
   ],
   "metadata": {
    "collapsed": false,
    "pycharm": {
     "name": "#%% md\n"
    }
   }
  },
  {
   "cell_type": "markdown",
   "source": [
    "Os quatro tipos são: supervisionado, não-supervisionado, semi-supervisionado e aprendizagem por reforço.\n",
    "### Aprendizado Supervisionado\n",
    "No aprendizado supervisionado a máquina recebe tanto as entradas como as saídas do banco de dados. Com isso, a máquina consegue criar uma função que mapeia as entradas com as saídas.\n",
    "\n",
    "No caso do banco de dados escolhido. A máquina receberia como entradas os dados como idade, hipertensão, nível de glicose, e para as saídas ela receberia os resultados de derrame.\n",
    "\n",
    "### Aprendizado Não-supervisionado\n",
    "No aprendizado não-supervisionado a máquina só recebe os dados de entrada. Com eles ela cria grupos de elementos com características semelhantes.\n",
    "\n",
    "Com o banco de dados. A máquina receberia as entradas escolhidas, e após gerar dois grupos de elementos, seria verificado se os grupos criados se relacionam com as saídas dos elementos. Isto é, se a maioria dos elementos teria o mesmo resultado de derrame.\n",
    "### Aprendizado Semi-supervisionado\n",
    "\n",
    "O aprendizado semi-supervisionado é uma mistura entre o supervisionado e o não-supervisionado, onde só algum dos elementos do grupo de aprendizado recebem as saídas. A máquina então, agruparia os elementos em grupos e usaria os elementos rotulados para prever as saídas.\n",
    "\n",
    "No banco de dados, a máquina receberia uma amostra de aprendizado onde só alguns elementos teriam as informações de derrame. Ela então deve criar dois grupos rotulados correspondendo os resultados da coluna derrame.\n",
    "\n",
    "### Aprendizado por reforço\n",
    "No aprendizado por reforço a máquina aparece por recompensa. Isto é, a máquina possui algum tipo de pontuação, e quando ela acerta a pontuação sobe, caso contrário a pontuação desce.\n",
    "\n",
    "Nesse caso, a máquina receberia um grupo de aprendizado sem os resultados das saídas, mas receberia que as saídas devem ser ou 1 para derrame ou 0 para não teve derrame. Conforme a máquina fosse tentando prever as saídas a sua pontuação iria ser aumentada para acerto e diminuía para erro.\n",
    "### Base de Dados:\n",
    "https://www.kaggle.com/datasets/fedesoriano/stroke-prediction-dataset\n",
    "\n"
   ],
   "metadata": {
    "collapsed": false,
    "pycharm": {
     "name": "#%% md\n"
    }
   }
  },
  {
   "cell_type": "markdown",
   "source": [
    "![3ª Questão](Questões/Q3.png)"
   ],
   "metadata": {
    "collapsed": false,
    "pycharm": {
     "name": "#%% md\n"
    }
   }
  },
  {
   "cell_type": "markdown",
   "source": [
    "![4ª Questão](Questões/Q4.png)"
   ],
   "metadata": {
    "collapsed": false,
    "pycharm": {
     "name": "#%% md\n"
    }
   }
  },
  {
   "cell_type": "markdown",
   "source": [
    "Para chegar aos resultados das métricas é necessário reduzir a quantidade de classes da matriz confusão para 2.\n",
    "\n",
    "![matriz confusão](Questões/matriz_confusao.png)\n",
    "\n",
    "Nos dados passados os dados verdadeiros são as colunas e os dados preditos são as linhas.\n",
    "\n",
    "Para fazer uma matriz de confusão para as <b>maças</b> teremos que:\n",
    "[PV] os valores positivo verdadeiro são : 70 (Previu que era maça e realmente era maça )\n",
    "[PF] valores positivo falsos são        : 30 (Previu que era maça, mas não era maça )\n",
    "[NV] os valores negativo verdadeiro são : 1122 (Previu que não era maça e realmente não era maça )\n",
    "[NF] os valores negativo falso são      : 20 (Previu que não era maça, mas era maça)\n",
    "\n",
    "\n",
    "Para fazer uma matriz de confusão para as <b>laranjas</b> teremos que:\n",
    "[PV] os valores positivo verdadeiro são : 67\n",
    "[PF] os valores positivo falsos são     : 33\n",
    "[NV] os valores negativo verdadeiro são : 1125\n",
    "[NF] os valores negativo falso são      : 54\n",
    "\n",
    "Para fazer uma matriz de confusão para os <b>limões</b> teremos que:\n",
    "[PV] os valores positivo verdadeiro são : 55\n",
    "[PF] os valores positivo falsos são     : 45\n",
    "[NV] os valores negativo verdadeiro são : 1137\n",
    "[NF] os valores negativo falso são      : 10\n",
    "\n",
    "Para fazer uma matriz de confusão para as <b>mangas</b> teremos que:\n",
    "[PV] os valores positivo verdadeiro são : 1000\n",
    "[PF] os valores positivo falsos são     : 11\n",
    "[NV] os valores negativo verdadeiro são : 192\n",
    "[NF] os valores negativo falso são      : 35\n",
    "\n",
    "![Matrizes Confusão Binário](Questões/matrizes_confusão_binário.png)"
   ],
   "metadata": {
    "collapsed": false,
    "pycharm": {
     "name": "#%% md\n"
    }
   }
  },
  {
   "cell_type": "markdown",
   "source": [
    "ou transformar a matriz para que:\n",
    "- Os Positivos Verdadeiros (VP) e Negativos Verdadeiros (NV) Sejam a Diagonal principal da matriz\n",
    "- Os Positivo Falso (PF) ficarão na última linha da tabela enquanto os Negativo falsos (NF) irão para a última coluna a direita\n",
    "![Matriz de Confusão Transformada](Questões/matriz_confusao_transformada.png)"
   ],
   "metadata": {
    "collapsed": false,
    "pycharm": {
     "name": "#%% md\n"
    }
   }
  },
  {
   "cell_type": "markdown",
   "source": [
    "## Medidas Globais:\n",
    "Total = 1450\n",
    "\n",
    "#### Sensibilidade:\n",
    "$ \\frac{1192}{1192 + 119} = 0,909 $\n",
    "\n",
    "#### Especificidade:\n",
    "$ \\frac{1192}{1192 + 119} = 0,909 $\n",
    "\n",
    "#### Precisão:\n",
    "$ \\frac{1192}{1192 + 119} = 0,909 $\n",
    "\n",
    "#### Medida F1:\n",
    "\n",
    "#### Acurácia:\n",
    "$ \\frac{1192}{1450} = 0,822 $\n",
    "\n",
    "#### Coeficiente de Matthews:\n",
    "\n",
    "#### AUC:"
   ],
   "metadata": {
    "collapsed": false,
    "pycharm": {
     "name": "#%% md\n"
    }
   }
  },
  {
   "cell_type": "markdown",
   "source": [
    "## Medidas das classes isoladas\n",
    "### - Maça\n",
    "#### Sensibilidade:\n",
    "$ \\frac{70}{70 + 20} = 0,777 $\n",
    "\n",
    "#### Especificidade:\n",
    "$ \\frac{1122}{1122 + 30} = 0,973 $\n",
    "\n",
    "#### Precisão:\n",
    "$ \\frac{70}{70 + 30} = 0,700 $\n",
    "\n",
    "#### Medida F1:\n",
    "\n",
    "#### Acurácia:\n",
    "$ \\frac{70 + 1122}{70 + 30} = 0,959 $\n",
    "\n",
    "#### Coeficiente de Matthews:\n",
    "\n",
    "#### AUC:\n",
    "\n",
    "// Resolver Resto\n",
    "### - Laranja\n",
    "#### Sensibilidade:\n",
    "$ \\frac{70}{70 + 20} = 0,777 $\n",
    "\n",
    "#### Especificidade:\n",
    "$ \\frac{1122}{1122 + 30} = 0,973 $\n",
    "\n",
    "#### Precisão:\n",
    "$ \\frac{70}{70 + 30} = 0,700 $\n",
    "\n",
    "#### Medida F1:\n",
    "#### Acurácia:\n",
    "$ \\frac{70 + 1122}{70 + 30} = 0,959 $\n",
    "\n",
    "#### Coeficiente de Matthews:\n",
    "\n",
    "#### AUC:\n",
    "\n",
    "### - Limão\n",
    "#### Sensibilidade:\n",
    "$ \\frac{70}{70 + 20} = 0,777 $\n",
    "\n",
    "#### Especificidade:\n",
    "$ \\frac{1122}{1122 + 30} = 0,973 $\n",
    "\n",
    "#### Precisão:\n",
    "$ \\frac{70}{70 + 30} = 0,700 $\n",
    "\n",
    "#### Medida F1:\n",
    "\n",
    "#### Acurácia:\n",
    "$ \\frac{70 + 1122}{70 + 30} = 0,959 $\n",
    "\n",
    "#### Coeficiente de Matthews:\n",
    "\n",
    "#### AUC:\n",
    "\n",
    "### - Manga\n",
    "#### Sensibilidade:\n",
    "$ \\frac{70}{70 + 20} = 0,777 $\n",
    "\n",
    "#### Especificidade:\n",
    "$ \\frac{1122}{1122 + 30} = 0,973 $\n",
    "\n",
    "#### Precisão:\n",
    "$ \\frac{70}{70 + 30} = 0,700 $\n",
    "\n",
    "#### Medida F1:\n",
    "\n",
    "#### Acurácia:\n",
    "$ \\frac{70 + 1122}{70 + 30} = 0,959 $\n",
    "\n",
    "#### Coeficiente de Matthews:\n",
    "\n",
    "#### AUC:"
   ],
   "metadata": {
    "collapsed": false,
    "pycharm": {
     "name": "#%% md\n"
    }
   }
  },
  {
   "cell_type": "code",
   "execution_count": null,
   "outputs": [],
   "source": [],
   "metadata": {
    "collapsed": false,
    "pycharm": {
     "name": "#%%\n"
    }
   }
  }
 ],
 "metadata": {
  "kernelspec": {
   "display_name": "Python 3",
   "language": "python",
   "name": "python3"
  },
  "language_info": {
   "codemirror_mode": {
    "name": "ipython",
    "version": 2
   },
   "file_extension": ".py",
   "mimetype": "text/x-python",
   "name": "python",
   "nbconvert_exporter": "python",
   "pygments_lexer": "ipython2",
   "version": "2.7.6"
  }
 },
 "nbformat": 4,
 "nbformat_minor": 0
}